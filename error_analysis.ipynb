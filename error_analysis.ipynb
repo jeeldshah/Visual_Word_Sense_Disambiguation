{
 "cells": [
  {
   "cell_type": "markdown",
   "metadata": {},
   "source": [
    "# Error Analysis\n",
    "\n",
    "This notebook, takes the predictions and gound truth files to identify the incorrect predictions and makes a combined image of the incorrect prediction (on the left), the ground truth (on the right) and the Full Phrase text (in black with red background)"
   ]
  },
  {
   "cell_type": "code",
   "execution_count": 1,
   "metadata": {},
   "outputs": [],
   "source": [
    "predictions = []\n",
    "test_data = []\n",
    "test_labels = []"
   ]
  },
  {
   "cell_type": "markdown",
   "metadata": {},
   "source": [
    "Reading the prediction and ground truth files"
   ]
  },
  {
   "cell_type": "code",
   "execution_count": 3,
   "metadata": {},
   "outputs": [],
   "source": [
    "pred_path = \"/Users/jeelshah/Documents/Fall 2023/ANLP/project/bla/VWSD/Visual_Word_Sense_Disambiguation/predictions/baseline/pred_test_FullSentence.txt\"\n",
    "data_path = \"/Users/jeelshah/Documents/Fall 2023/ANLP/project/bla/VWSD/Visual_Word_Sense_Disambiguation/predictions/baseline/test_data.txt\"\n",
    "label_path = \"/Users/jeelshah/Documents/Fall 2023/ANLP/project/bla/VWSD/Visual_Word_Sense_Disambiguation/predictions/baseline/test_label.txt\"\n",
    "# pred_path = \"/Users/jeelshah/Documents/Fall 2023/ANLP/project/bla/VWSD/Visual_Word_Sense_Disambiguation/predictions/dcxl_zshot/dcxl_zshot_FullSentence.txt\"\n",
    "# data_path = \"/Users/jeelshah/Documents/Fall 2023/ANLP/project/bla/VWSD/Visual_Word_Sense_Disambiguation/predictions/metaclip/test_data.txt\"\n",
    "# label_path = \"/Users/jeelshah/Documents/Fall 2023/ANLP/project/bla/VWSD/Visual_Word_Sense_Disambiguation/predictions/metaclip/test_label.txt\"\n",
    "with open(pred_path) as f:\n",
    "    predictions = f.readlines()\n",
    "\n",
    "with open(data_path) as f:\n",
    "    test_data = f.readlines()\n",
    "\n",
    "with open(label_path) as f:\n",
    "    test_labels = f.readlines()\n"
   ]
  },
  {
   "cell_type": "code",
   "execution_count": 4,
   "metadata": {},
   "outputs": [],
   "source": [
    "predictions = [x.split(\"\\t\")[0] for x in predictions]\n"
   ]
  },
  {
   "cell_type": "code",
   "execution_count": 5,
   "metadata": {},
   "outputs": [
    {
     "data": {
      "text/plain": [
       "'image.2166.jpg'"
      ]
     },
     "execution_count": 5,
     "metadata": {},
     "output_type": "execute_result"
    }
   ],
   "source": [
    "predictions[0]"
   ]
  },
  {
   "cell_type": "code",
   "execution_count": 6,
   "metadata": {},
   "outputs": [],
   "source": [
    "# test_data = [x.split(\"\\t\")[1] for x in test_data ]\n",
    "temp = []\n",
    "for t in test_data:\n",
    "    tt = t.split(\"\\t\")\n",
    "    try:\n",
    "        ttt = tt[1]\n",
    "        temp.append(ttt)\n",
    "    except:\n",
    "        print(tt)"
   ]
  },
  {
   "cell_type": "code",
   "execution_count": 7,
   "metadata": {},
   "outputs": [],
   "source": [
    "test_data = temp"
   ]
  },
  {
   "cell_type": "code",
   "execution_count": 8,
   "metadata": {},
   "outputs": [
    {
     "data": {
      "text/plain": [
       "'football goal'"
      ]
     },
     "execution_count": 8,
     "metadata": {},
     "output_type": "execute_result"
    }
   ],
   "source": [
    "test_data[0]"
   ]
  },
  {
   "cell_type": "code",
   "execution_count": 9,
   "metadata": {},
   "outputs": [],
   "source": [
    "test_labels = [x.strip(\"\\n\") for x in test_labels]"
   ]
  },
  {
   "cell_type": "code",
   "execution_count": 10,
   "metadata": {},
   "outputs": [
    {
     "data": {
      "text/plain": [
       "'image.2166.jpg'"
      ]
     },
     "execution_count": 10,
     "metadata": {},
     "output_type": "execute_result"
    }
   ],
   "source": [
    "test_labels[0]"
   ]
  },
  {
   "cell_type": "code",
   "execution_count": 10,
   "metadata": {},
   "outputs": [
    {
     "data": {
      "text/plain": [
       "'hair bun'"
      ]
     },
     "execution_count": 10,
     "metadata": {},
     "output_type": "execute_result"
    }
   ],
   "source": [
    "# these indexes had nan values for Full Phrase, thus they were omitted\n",
    "# test_labels.pop(40)\n",
    "# test_labels.pop(367)\n",
    "# test_data.pop(40)\n",
    "# test_data.pop(367)"
   ]
  },
  {
   "cell_type": "markdown",
   "metadata": {},
   "source": [
    "Function to take in input images and text and make a collage to have a comparative view"
   ]
  },
  {
   "cell_type": "code",
   "execution_count": 11,
   "metadata": {},
   "outputs": [],
   "source": [
    "from PIL import Image\n",
    "from PIL import ImageDraw\n",
    "from PIL import ImageFont\n",
    "listofimages=['Image2.jpg', 'Image6.jpg']\n",
    "\n",
    "def create_collage(width, height, listofimages, img_name,error_img=True):\n",
    "    img_name = img_name.replace(\" \",\"-\")\n",
    "    cols = 2\n",
    "    rows = 1\n",
    "    thumbnail_width = width//cols\n",
    "    thumbnail_height = height//rows\n",
    "    size = thumbnail_width, thumbnail_height\n",
    "    new_im = Image.new('RGB', (width, height))\n",
    "    ims = []\n",
    "    for p in listofimages:\n",
    "        im = Image.open(p)\n",
    "        im.thumbnail(size)\n",
    "        ims.append(im)\n",
    "    i = 0\n",
    "    x = 0\n",
    "    y = 0\n",
    "    for col in range(cols):\n",
    "        for row in range(rows):\n",
    "            # print(i, x, y)\n",
    "            new_im.paste(ims[i], (x, y))\n",
    "            i += 1\n",
    "            y += thumbnail_height\n",
    "        x += thumbnail_width\n",
    "        y = 0\n",
    "    draw = ImageDraw.Draw(new_im)\n",
    "    # draw.text(, img_name, fill=(255, 0, 0))\n",
    "    position = (200, 180)\n",
    "    left, top, right, bottom = draw.textbbox(position, img_name)\n",
    "    if error_img:\n",
    "        draw.rectangle((left-5, top-5, right+5, bottom+5), fill=\"red\")\n",
    "    else:\n",
    "        draw.rectangle((left-5, top-5, right+5, bottom+5), fill=\"green\")\n",
    "    draw.text(position, img_name, fill=\"black\",stroke_width=50)\n",
    "    if error_img:\n",
    "        new_im.save('/Users/jeelshah/Documents/Fall 2023/ANLP/project/bla/VWSD/Visual_Word_Sense_Disambiguation/predictions/baseline/errors/'+img_name+\".jpg\")\n",
    "    else:\n",
    "        new_im.save('/Users/jeelshah/Documents/Fall 2023/ANLP/project/bla/VWSD/Visual_Word_Sense_Disambiguation/predictions/metaclip/good_'+img_name+\".jpg\")\n",
    "\n",
    "# create_collage(450, 200, listofimages)"
   ]
  },
  {
   "cell_type": "markdown",
   "metadata": {},
   "source": [
    "Reading predictions and making collages for the incorrect predictions"
   ]
  },
  {
   "cell_type": "code",
   "execution_count": 97,
   "metadata": {},
   "outputs": [],
   "source": [
    "test_img_path = '/Users/jeelshah/Documents/Fall 2023/ANLP/project/bla/VWSD/semeval-2023-task-1-V-WSD-train-v1/val_v1/test_images_resized/'\n",
    "for i,n in enumerate(predictions):\n",
    "    if predictions[i] != test_labels[i]:\n",
    "    #     # print(predictions[i])\n",
    "    #     # print(test_labels[i])\n",
    "    #     # print(test_data[i])\n",
    "        create_collage(450, 200, [test_img_path+predictions[i],test_img_path+test_labels[i]],test_data[i],error_img=True)\n",
    "    if predictions[i] == test_labels[i]:\n",
    "    #     # print(predictions[i])\n",
    "    #     # print(test_labels[i])\n",
    "    #     # print(test_data[i])\n",
    "        create_collage(450, 200, [test_img_path+predictions[i],test_img_path+test_labels[i]],test_data[i],error_img=True)"
   ]
  },
  {
   "cell_type": "markdown",
   "metadata": {},
   "source": [
    "copying the test images consisdered in the last iteration from baseline predictions"
   ]
  },
  {
   "cell_type": "code",
   "execution_count": 12,
   "metadata": {},
   "outputs": [
    {
     "name": "stdout",
     "output_type": "stream",
     "text": [
      "famous\n",
      "semantic\n",
      "correct: asm-launch.jpg'\n",
      "correct: reflecting-glass.jpg'\n",
      "text\n"
     ]
    }
   ],
   "source": [
    "from glob import glob\n",
    "import os\n",
    "import shutil\n",
    "\n",
    "base_dir = \"/Users/jeelshah/Documents/Fall 2023/ANLP/project/bla/VWSD/Visual_Word_Sense_Disambiguation/predictions/baseline/error_examples/\"\n",
    "\n",
    "folders = os.listdir(base_dir)[1:]\n",
    "dest_dir = \"/Users/jeelshah/Documents/Fall 2023/ANLP/project/bla/VWSD/Visual_Word_Sense_Disambiguation/predictions/dcxl_zshot/\"\n",
    "for f in folders:\n",
    "    print(f)\n",
    "    imgs = glob(base_dir+f+\"/*.jpg\")\n",
    "    for im in imgs:\n",
    "        os.makedirs(os.path.dirname(dest_dir+\"from_prev/\"+f+\"/\"), exist_ok=True)\n",
    "        im_path = im.split(\"/\")[-1]\n",
    "        try:\n",
    "            shutil.copy(dest_dir+\"errors/\"+im_path, dest_dir+\"from_prev/\"+f+\"/\"+im_path)\n",
    "        except FileNotFoundError as e:\n",
    "            print(\"correct: \"+str(e).split(\"/\")[-1])"
   ]
  },
  {
   "cell_type": "markdown",
   "metadata": {},
   "source": [
    "### Create a collage for comparision of predictions from different models"
   ]
  },
  {
   "cell_type": "code",
   "execution_count": 22,
   "metadata": {},
   "outputs": [],
   "source": [
    "# imgs_path = \"/Users/jeelshah/Documents/Fall 2023/ANLP/project/bla/VWSD/Visual_Word_Sense_Disambiguation/predictions/dcxl_zshot/from_prev\"\n",
    "\n",
    "def create_collage_compare(width, height, listofimages,model_types, img_name,save_path):\n",
    "    # img_name = img_name.replace(\" \",\"-\")\n",
    "    cols = 4\n",
    "    rows = 2\n",
    "    thumbnail_width = width//cols\n",
    "    thumbnail_height = height//rows\n",
    "    size = thumbnail_width, thumbnail_height\n",
    "    new_im = Image.new('RGB', (width, height))\n",
    "    ims = []\n",
    "    for p in listofimages:\n",
    "        im = Image.open(p)\n",
    "        im.thumbnail(size)\n",
    "        ims.append(im)\n",
    "    i = 0\n",
    "    x = 0\n",
    "    y = 0\n",
    "    draw = ImageDraw.Draw(new_im)\n",
    "    for col in range(cols):\n",
    "        for row in range(rows):\n",
    "            # print(i, x, y)\n",
    "            if i <= len(model_types):\n",
    "                new_im.paste(ims[i], (x, y))\n",
    "                if i==0:\n",
    "                    # print(\"-\")\n",
    "                    left, top, right, bottom = draw.textbbox((x,y), \"orig\")\n",
    "                    draw.rectangle((left-5, top-5, right+5, bottom+5), fill=\"green\")\n",
    "                    draw.text((x,y), \"orig\", fill=\"black\",stroke_width=60)\n",
    "                else:\n",
    "                    # print(i-1)\n",
    "                    left, top, right, bottom = draw.textbbox((x,y), model_types[i-1])\n",
    "                    draw.rectangle((left-5, top-5, right+5, bottom+5), fill=\"yellow\")\n",
    "                    draw.text((x,y), model_types[i-1], fill=\"black\",stroke_width=60)\n",
    "                i += 1\n",
    "                y += thumbnail_height\n",
    "            \n",
    "        x += thumbnail_width\n",
    "        y = 0\n",
    "    \n",
    "    # draw.text(, img_name, fill=(255, 0, 0))\n",
    "    position = (1700, 850)\n",
    "    left, top, right, bottom = draw.textbbox(position, img_name)\n",
    "    draw.rectangle((left-5, top-5, right+5, bottom+5), fill=\"red\")\n",
    "    draw.text(position, img_name, fill=\"black\",stroke_width=50)\n",
    "    new_im.save(save_path+img_name+\".jpg\")\n"
   ]
  },
  {
   "cell_type": "markdown",
   "metadata": {},
   "source": [
    "get predictions accross models"
   ]
  },
  {
   "cell_type": "code",
   "execution_count": 23,
   "metadata": {},
   "outputs": [
    {
     "name": "stdout",
     "output_type": "stream",
     "text": [
      "/Users/jeelshah/Documents/Fall 2023/ANLP/project/bla/VWSD/small_submissions/clip_base/val_submission_FullSentence.txt\n",
      "['image.2166.jpg', 'image.4429.png', 'image.4432.jpg', 'image.1435.jpg', 'image.4455.jpg', 'image.4464.jpg', 'image.4471.jpg', 'image.4476.jpg', 'image.4495.jpg', 'image.4499.jpg', 'image.4506.jpg', 'image.4521.jpg', 'image.4527.jpg', 'image.4542.jpg', 'image.4551.jpg', 'image.4562.jpg', 'image.4570.jpg', 'image.4573.jpg', 'image.4588.jpg', 'image.4592.jpg', 'image.4604.jpg', 'image.4611.jpg', 'image.4615.jpg', 'image.4631.jpg', 'image.4638.jpg', 'image.4642.jpg', 'image.4654.jpg', 'image.4664.jpg', 'image.4668.jpg', 'image.4678.jpg', 'image.4695.jpg', 'image.2003.jpg', 'image.4705.jpg', 'image.4720.jpg', 'image.4727.jpg', 'image.4735.jpg', 'image.668.jpg', 'image.4758.jpg', 'image.4761.jpg', 'image.1910.jpg', 'image.4794.jpg', 'image.2150.jpg', 'image.4809.jpg', 'image.1295.jpg', 'image.4826.jpg', 'image.2962.jpg', 'image.4840.jpg', 'image.4850.jpg', 'image.4857.jpg', 'image.4862.jpg', 'image.4877.jpg', 'image.2585.jpg', 'image.4891.jpg', 'image.4896.jpg', 'image.4911.jpg', 'image.4920.jpg', 'image.4925.jpg', 'image.4942.png', 'image.4952.jpg', 'image.4542.jpg', 'image.4969.jpg', 'image.4978.jpg', 'image.4985.jpg', 'image.256.jpg', 'image.5002.jpg', 'image.5013.jpg', 'image.5022.jpg', 'image.5027.jpg', 'image.5037.jpg', 'image.5045.jpg', 'image.5052.jpg', 'image.5062.jpg', 'image.5071.jpg', 'image.5084.jpg', 'image.5095.jpg', 'image.5096.jpg', 'image.5110.jpg', 'image.5119.jpg', 'image.5132.jpg', 'image.5134.jpg', 'image.5143.jpg', 'image.5155.JPG', 'image.5163.jpg', 'image.1397.jpg', 'image.5181.jpg', 'image.5184.jpg', 'image.5192.jpg', 'image.5202.jpg', 'image.5216.jpg', 'image.5221.jpg', 'image.5234.jpg', 'image.5238.jpg', 'image.5248.jpg', 'image.5253.jpg', 'image.21.jpg', 'image.5270.jpg', 'image.5287.jpg', 'image.5291.png', 'image.4859.jpg', 'image.5309.jpg', 'image.5318.jpg', 'image.5328.jpg', 'image.4570.jpg', 'image.5346.jpg', 'image.5357.jpg', 'image.5367.jpg', 'image.5371.jpg', 'image.5382.jpg', 'image.5388.jpg', 'image.5399.jpg', 'image.5408.jpg', 'image.5418.jpg', 'image.2711.jpg', 'image.5433.jpg', 'image.5443.jpg', 'image.5456.jpg', 'image.5463.jpg', 'image.5469.jpg', 'image.435.jpg', 'image.5493.jpg', 'image.5504.jpg', 'image.5511.jpg', 'image.5518.jpg', 'image.5523.jpg', 'image.1071.jpg', 'image.5546.jpg', 'image.5549.jpg', 'image.2629.jpg', 'image.5567.jpg', 'image.5571.jpg', 'image.3635.jpg', 'image.5586.jpg', 'image.5596.jpg', 'image.5604.jpg', 'image.5604.jpg', 'image.5619.jpg', 'image.5623.jpg', 'image.5641.jpg', 'image.5648.jpg', 'image.5659.jpg', 'image.4962.jpg', 'image.5671.jpg', 'image.5675.jpg', 'image.5688.jpg', 'image.5700.jpg', 'image.5702.jpg', 'image.5718.jpg', 'image.5726.jpg', 'image.2680.jpg', 'image.5734.jpg', 'image.5718.jpg', 'image.5753.jpg', 'image.5134.jpg', 'image.5767.jpg', 'image.5775.jpg', 'image.5781.jpg', 'image.485.jpg', 'image.5432.jpg', 'image.5800.jpg', 'image.4632.jpg', 'image.5819.jpg', 'image.5820.jpg', 'image.3776.jpg', 'image.5839.jpg', 'image.5851.jpg', 'image.5854.jpg', 'image.1222.jpg', 'image.5873.jpg', 'image.91.jpg', 'image.4346.jpg', 'image.4354.jpg', 'image.5914.jpg', 'image.5917.jpg', 'image.5930.jpg', 'image.5939.jpg', 'image.5943.jpg', 'image.5951.jpg', 'image.5956.jpg', 'image.5970.jpg', 'image.5979.jpg', 'image.5987.jpg', 'image.3233.jpg', 'image.6001.jpg', 'image.1899.jpg', 'image.5307.jpg', 'image.6019.jpg', 'image.1870.jpg', 'image.6035.jpg', 'image.6045.jpg', 'image.6052.jpg', 'image.5973.jpg', 'image.6067.jpg', 'image.6073.jpg', 'image.4670.jpg', 'image.2323.jpg', 'image.6097.jpg', 'image.6102.jpg', 'image.6115.jpg', 'image.4952.jpg', 'image.157.jpg', 'image.6134.jpg', 'image.6145.jpg', 'image.6154.jpg', 'image.6160.jpg', 'image.6167.jpg', 'image.6178.jpg', 'image.6185.jpg', 'image.6192.jpg', 'image.6204.jpg', 'image.6213.jpg', 'image.3671.jpg', 'image.6228.jpg', 'image.6244.jpg', 'image.6248.jpg', 'image.6255.jpg', 'image.6262.jpg', 'image.6273.jpg', 'image.6282.jpg', 'image.1203.jpg', 'image.6304.jpg', 'image.6310.jpg', 'image.857.jpg', 'image.6319.jpg', 'image.2026.jpg', 'image.6333.jpg', 'image.4569.jpg', 'image.235.jpg', 'image.6356.jpg', 'image.6363.jpg', 'image.6368.jpg', 'image.6376.jpg', 'image.4924.jpg', 'image.1796.jpg', 'image.6398.jpg', 'image.6412.jpg', 'image.6426.jpg', 'image.6435.jpg', 'image.6449.jpg', 'image.6460.jpg', 'image.6471.jpg', 'image.6473.jpg', 'image.6484.jpg', 'image.5700.jpg', 'image.6496.jpg', 'image.558.jpg', 'image.6519.jpg', 'image.6526.jpg', 'image.6535.jpg', 'image.6539.jpg', 'image.6553.jpg', 'image.6562.jpg', 'image.6566.jpg', 'image.6575.jpg', 'image.6583.jpg', 'image.5854.jpg', 'image.4689.jpg', 'image.6612.jpg', 'image.1624.jpg', 'image.6624.jpg', 'image.6629.jpg', 'image.5457.jpg', 'image.6640.jpg', 'image.6642.jpg', 'image.6651.jpg', 'image.6660.jpg', 'image.6672.jpg', 'image.6679.jpg', 'image.5800.jpg', 'image.2098.jpg', 'image.6701.jpg', 'image.6709.jpg', 'image.6721.jpg', 'image.6728.jpg', 'image.6741.jpg', 'image.6745.jpg', 'image.6753.png', 'image.6764.jpg', 'image.6769.jpg', 'image.6776.jpg', 'image.6784.jpg', 'image.6792.jpg', 'image.6799.jpg', 'image.6807.jpg', 'image.6811.jpg', 'image.6819.jpg', 'image.6826.jpg', 'image.1096.jpg', 'image.6844.jpg', 'image.6852.jpg', 'image.884.jpg', 'image.6865.jpg', 'image.6872.jpg', 'image.6878.jpg', 'image.6883.jpg', 'image.6892.jpg', 'image.6898.jpg', 'image.6442.jpg', 'image.6907.jpg', 'image.6916.jpg', 'image.6928.jpg', 'image.6933.jpg', 'image.1701.jpg', 'image.1362.jpg', 'image.1741.jpg', 'image.6958.jpg', 'image.6965.jpg', 'image.6972.jpg', 'image.6984.jpg', 'image.6989.jpg', 'image.7002.jpg', 'image.7007.jpg', 'image.7010.jpg', 'image.6179.jpg', 'image.7025.jpg', 'image.7028.jpg', 'image.7035.jpg', 'image.21.jpg', 'image.7056.jpg', 'image.93.jpg', 'image.7067.jpg', 'image.1658.jpg', 'image.7082.jpg', 'image.7091.jpg', 'image.7099.jpg', 'image.7106.jpg', 'image.7115.jpg', 'image.7127.jpg', 'image.5956.jpg', 'image.7137.jpg', 'image.7138.jpg', 'image.7149.jpg', 'image.7159.jpg', 'image.7167.jpg', 'image.1182.jpg', 'image.7182.jpg', 'image.7192.jpg', 'image.7200.jpg', 'image.3337.jpg', 'image.1018.jpg', 'image.7210.jpg', 'image.7220.jpg', 'image.7232.jpg', 'image.7238.jpg', 'image.869.jpg', 'image.837.jpg', 'image.6519.jpg', 'image.7262.jpg', 'image.7267.jpg', 'image.7278.jpg', 'image.7282.jpg', 'image.1452.jpg', 'image.7293.jpg', 'image.7309.jpg', 'image.7311.jpg', 'image.7322.jpg', 'image.7327.jpg', 'image.68.jpg', 'image.7344.jpg', 'image.7354.jpg', 'image.7361.jpg', 'image.6087.jpg', 'image.1403.jpg', 'image.7376.jpg', 'image.7382.jpg', 'image.7389.jpg', 'image.7398.jpg', 'image.1943.jpg', 'image.7415.jpg', 'image.7422.jpg', 'image.2662.jpg', 'image.7437.jpg', 'image.7442.jpg', 'image.7449.jpg', 'image.7457.jpg', 'image.7467.jpg', 'image.7473.jpg', 'image.7480.jpg', 'image.7486.jpg', 'image.7497.jpg', 'image.216.jpg', 'image.948.jpg', 'image.7515.jpg', 'image.7525.jpg', 'image.7531.jpg', 'image.7536.jpg', 'image.7547.jpg', 'image.7560.jpg', 'image.6662.jpg', 'image.7573.jpg', 'image.495.jpg', 'image.4640.jpg', 'image.7596.jpg', 'image.7600.jpg', 'image.7614.jpg', 'image.5600.jpg', 'image.7626.jpg', 'image.5887.jpg', 'image.7646.jpg', 'image.7649.jpg', 'image.7658.jpg', 'image.7667.jpg', 'image.7671.jpg', 'image.7682.jpg', 'image.7687.jpg', 'image.5457.jpg', 'image.6646.jpg', 'image.7703.jpg', 'image.7709.jpg', 'image.7722.jpg', 'image.7725.jpg', 'image.7737.jpg', 'image.6624.jpg', 'image.4686.jpeg', 'image.6787.jpg', 'image.7763.jpg', 'image.7770.jpg', 'image.7779.jpg', 'image.7414.jpg', 'image.7794.jpg', 'image.7809.jpg', 'image.7815.png', 'image.7820.jpg', 'image.7822.jpg', 'image.7831.jpg', 'image.7833.jpg', 'image.7839.jpg', 'image.7853.jpg', 'image.2432.jpg', 'image.277.jpg', 'image.7871.jpg', 'image.5604.jpg', 'image.7880.jpg', 'image.7891.jpg', 'image.7898.jpg', 'image.7904.jpg', 'image.7912.jpg', 'image.7921.jpg', 'image.7929.jpg', 'image.7931.jpg', 'image.7938.jpg', 'image.7946.jpg', 'image.7954.jpg', 'image.7959.jpg', 'image.7971.jpg', 'image.7975.jpg', 'image.7983.jpg', 'image.7991.jpg', 'image.7999.jpg', 'image.8005.jpg', 'image.8011.jpg', 'image.8015.jpg', 'image.8032.jpg', 'image.8037.jpg', 'image.3854.jpg', 'image.8054.jpg', 'image.8059.jpg', 'image.4891.jpg', 'image.8069.jpg', 'image.8081.jpg', 'image.8089.jpg', 'image.8095.jpg']\n",
      "/Users/jeelshah/Documents/Fall 2023/ANLP/project/bla/VWSD/small_submissions/clip_base_ft/val_submission_FullSentence.txt\n",
      "['image.2166.jpg', 'image.4429.png', 'image.4432.jpg', 'image.1435.jpg', 'image.4455.jpg', 'image.4464.jpg', 'image.4471.jpg', 'image.4476.jpg', 'image.4495.jpg', 'image.4499.jpg', 'image.4506.jpg', 'image.4521.jpg', 'image.4532.jpg', 'image.4542.jpg', 'image.4551.jpg', 'image.4562.jpg', 'image.4564.jpg', 'image.4573.jpg', 'image.4588.jpg', 'image.4592.jpg', 'image.4604.jpg', 'image.4611.jpg', 'image.4615.jpg', 'image.4631.jpg', 'image.4638.jpg', 'image.4642.jpg', 'image.4654.jpg', 'image.4664.jpg', 'image.4670.jpg', 'image.4678.jpg', 'image.4695.jpg', 'image.2003.jpg', 'image.4705.jpg', 'image.4720.jpg', 'image.4727.jpg', 'image.4735.jpg', 'image.668.jpg', 'image.4758.jpg', 'image.4761.jpg', 'image.1910.jpg', 'image.3552.jpg', 'image.2150.jpg', 'image.4805.jpg', 'image.1295.jpg', 'image.4826.jpg', 'image.2962.jpg', 'image.4840.jpg', 'image.4850.jpg', 'image.4857.jpg', 'image.4870.jpg', 'image.4877.jpg', 'image.2585.jpg', 'image.4891.jpg', 'image.4903.jpg', 'image.4911.jpg', 'image.4920.jpg', 'image.4930.jpg', 'image.4942.png', 'image.4952.jpg', 'image.4542.jpg', 'image.4969.jpg', 'image.4978.jpg', 'image.4985.jpg', 'image.256.jpg', 'image.5001.jpg', 'image.5013.jpg', 'image.5022.jpg', 'image.5027.jpg', 'image.4209.jpg', 'image.5045.jpg', 'image.5052.jpg', 'image.5062.jpg', 'image.5071.jpg', 'image.5084.jpg', 'image.5095.jpg', 'image.5096.jpg', 'image.5110.jpg', 'image.5119.jpg', 'image.5132.jpg', 'image.5134.jpg', 'image.5150.jpg', 'image.5155.JPG', 'image.5163.jpg', 'image.1397.jpg', 'image.5181.jpg', 'image.5184.jpg', 'image.5192.jpg', 'image.5202.jpg', 'image.5216.jpg', 'image.5221.jpg', 'image.5234.jpg', 'image.5238.jpg', 'image.5248.jpg', 'image.5253.jpg', 'image.5264.jpg', 'image.5270.jpg', 'image.5287.jpg', 'image.5291.png', 'image.4859.jpg', 'image.5309.jpg', 'image.5318.jpg', 'image.5328.jpg', 'image.4570.jpg', 'image.5346.jpg', 'image.5357.jpg', 'image.5367.jpg', 'image.5371.jpg', 'image.5382.jpg', 'image.5388.jpg', 'image.5399.jpg', 'image.5408.jpg', 'image.5418.jpg', 'image.2711.jpg', 'image.5433.jpg', 'image.5443.jpg', 'image.5456.jpg', 'image.5463.jpg', 'image.5469.jpg', 'image.435.jpg', 'image.5493.jpg', 'image.5504.jpg', 'image.5511.jpg', 'image.5518.jpg', 'image.5523.jpg', 'image.1071.jpg', 'image.5546.jpg', 'image.5551.jpg', 'image.2629.jpg', 'image.5567.jpg', 'image.5571.jpg', 'image.5582.jpg', 'image.5586.jpg', 'image.5596.jpg', 'image.5604.jpg', 'image.5604.jpg', 'image.5619.jpg', 'image.5630.jpg', 'image.5641.jpg', 'image.5650.jpg', 'image.5659.jpg', 'image.4963.jpg', 'image.5671.jpg', 'image.5675.jpg', 'image.5688.jpg', 'image.5700.jpg', 'image.5702.jpg', 'image.5718.jpg', 'image.5726.jpg', 'image.2680.jpg', 'image.5734.jpg', 'image.5718.jpg', 'image.5753.jpg', 'image.5134.jpg', 'image.5767.jpg', 'image.5776.jpg', 'image.5781.jpg', 'image.485.jpg', 'image.5432.jpg', 'image.5800.jpg', 'image.4632.jpg', 'image.5819.jpg', 'image.5820.jpg', 'image.3776.jpg', 'image.5839.jpg', 'image.5850.jpg', 'image.5854.jpg', 'image.1222.jpg', 'image.5873.jpg', 'image.91.jpg', 'image.4346.jpg', 'image.4354.jpg', 'image.5914.jpg', 'image.5923.jpg', 'image.5928.jpg', 'image.5939.jpg', 'image.5943.jpg', 'image.5950.jpg', 'image.5956.jpg', 'image.5970.jpg', 'image.5973.jpg', 'image.5987.jpg', 'image.3233.jpg', 'image.6001.jpg', 'image.1899.jpg', 'image.5307.jpg', 'image.6019.jpg', 'image.1870.jpg', 'image.6037.jpg', 'image.6045.jpg', 'image.6052.jpg', 'image.5973.jpg', 'image.6067.jpg', 'image.6073.jpg', 'image.2342.jpg', 'image.2323.jpg', 'image.6097.jpg', 'image.6102.jpg', 'image.6115.jpg', 'image.4952.jpg', 'image.157.jpg', 'image.6138.jpg', 'image.6145.jpg', 'image.6154.jpg', 'image.6160.jpg', 'image.6167.jpg', 'image.6178.jpg', 'image.6185.jpg', 'image.6192.jpg', 'image.6203.jpg', 'image.6213.jpg', 'image.3671.jpg', 'image.6235.jpg', 'image.6244.jpg', 'image.5326.jpg', 'image.6255.jpg', 'image.6262.jpg', 'image.6273.jpg', 'image.6282.jpg', 'image.1203.jpg', 'image.6304.jpg', 'image.6310.jpg', 'image.1153.jpg', 'image.6319.jpg', 'image.2026.jpg', 'image.6333.jpg', 'image.4569.jpg', 'image.235.jpg', 'image.6356.jpg', 'image.6363.jpg', 'image.6368.jpg', 'image.6376.jpg', 'image.6388.jpg', 'image.1796.jpg', 'image.6398.jpg', 'image.6412.jpg', 'image.6426.jpg', 'image.6433.jpg', 'image.6449.jpg', 'image.6460.jpg', 'image.6468.jpg', 'image.6478.jpg', 'image.6484.jpg', 'image.5700.jpg', 'image.6496.jpg', 'image.558.jpg', 'image.6519.jpg', 'image.6526.jpg', 'image.6537.jpg', 'image.6539.jpg', 'image.6553.jpg', 'image.6562.jpg', 'image.6566.jpg', 'image.6575.jpg', 'image.6587.jpg', 'image.5854.jpg', 'image.6602.jpg', 'image.6612.jpg', 'image.6618.jpg', 'image.6623.jpg', 'image.6627.jpg', 'image.2026.jpg', 'image.6640.jpg', 'image.6642.jpg', 'image.6651.jpg', 'image.6660.jpg', 'image.6672.jpg', 'image.6679.jpg', 'image.5800.jpg', 'image.2098.jpg', 'image.6701.jpg', 'image.6709.jpg', 'image.6721.jpg', 'image.6728.jpg', 'image.6742.jpg', 'image.6745.jpg', 'image.6753.png', 'image.6764.jpg', 'image.6769.jpg', 'image.6776.jpg', 'image.6784.jpg', 'image.6791.jpg', 'image.6799.jpg', 'image.6807.jpg', 'image.6811.jpg', 'image.6819.jpg', 'image.6829.jpg', 'image.1096.jpg', 'image.6844.jpg', 'image.6852.jpg', 'image.884.jpg', 'image.6865.jpg', 'image.6872.jpg', 'image.6878.jpg', 'image.6883.jpg', 'image.6895.jpg', 'image.6902.jpg', 'image.6442.jpg', 'image.6907.jpg', 'image.6916.jpg', 'image.6928.jpg', 'image.6933.jpg', 'image.1701.jpg', 'image.1362.jpg', 'image.2297.jpg', 'image.6958.jpg', 'image.6965.jpg', 'image.6972.jpg', 'image.6984.jpg', 'image.6989.jpg', 'image.7002.jpg', 'image.7007.jpg', 'image.7010.jpg', 'image.6179.jpg', 'image.7025.jpg', 'image.7028.jpg', 'image.7035.jpg', 'image.7046.jpg', 'image.7056.jpg', 'image.93.jpg', 'image.7067.jpg', 'image.1658.jpg', 'image.7082.jpg', 'image.7091.jpg', 'image.7099.jpg', 'image.7106.jpg', 'image.7117.jpeg', 'image.7127.jpg', 'image.5956.jpg', 'image.7137.jpg', 'image.3149.jpg', 'image.7149.jpg', 'image.7159.jpg', 'image.7167.jpg', 'image.1182.jpg', 'image.7182.jpg', 'image.7192.jpg', 'image.7200.jpg', 'image.3337.jpg', 'image.1018.jpg', 'image.7210.jpg', 'image.7220.jpg', 'image.7230.jpg', 'image.7238.jpg', 'image.869.jpg', 'image.837.jpg', 'image.6519.jpg', 'image.7262.jpg', 'image.7267.jpg', 'image.7278.jpg', 'image.7282.jpg', 'image.7289.jpg', 'image.7293.jpg', 'image.7309.jpg', 'image.7311.jpg', 'image.7322.jpg', 'image.7327.jpg', 'image.68.jpg', 'image.7345.jpg', 'image.7346.jpg', 'image.7361.jpg', 'image.6087.jpg', 'image.1403.jpg', 'image.7376.jpg', 'image.7382.jpg', 'image.7389.jpg', 'image.7398.jpg', 'image.1943.jpg', 'image.7415.jpg', 'image.7422.jpg', 'image.7427.jpg', 'image.7437.jpg', 'image.7443.jpg', 'image.7449.jpg', 'image.7457.jpg', 'image.7467.jpg', 'image.7473.jpg', 'image.7480.jpg', 'image.7486.jpg', 'image.7497.jpg', 'image.216.jpg', 'image.948.jpg', 'image.7515.jpg', 'image.7523.jpg', 'image.7531.jpg', 'image.7536.jpg', 'image.7547.jpg', 'image.7560.jpg', 'image.7565.jpg', 'image.7573.jpg', 'image.495.jpg', 'image.4640.jpg', 'image.7596.jpg', 'image.7600.jpg', 'image.7614.jpg', 'image.7622.jpg', 'image.7625.jpg', 'image.5887.jpg', 'image.7646.jpg', 'image.7649.jpg', 'image.7656.jpg', 'image.7667.jpg', 'image.6849.jpg', 'image.7682.jpg', 'image.7687.jpg', 'image.2031.jpg', 'image.6646.jpg', 'image.7703.jpg', 'image.7709.jpg', 'image.7719.jpg', 'image.7725.jpg', 'image.7737.jpg', 'image.6624.jpg', 'image.4686.jpeg', 'image.194.jpg', 'image.7763.jpg', 'image.7770.jpg', 'image.7779.jpg', 'image.7414.jpg', 'image.7794.jpg', 'image.7809.jpg', 'image.7815.png', 'image.7820.jpg', 'image.7822.jpg', 'image.7831.jpg', 'image.7833.jpg', 'image.7839.jpg', 'image.7853.jpg', 'image.2432.jpg', 'image.4773.jpg', 'image.7871.jpg', 'image.5604.jpg', 'image.7880.jpg', 'image.7891.jpg', 'image.7898.jpg', 'image.7904.jpg', 'image.7912.jpg', 'image.7921.jpg', 'image.7929.jpg', 'image.7931.jpg', 'image.7938.jpg', 'image.7946.jpg', 'image.7955.jpg', 'image.7959.jpg', 'image.7971.jpg', 'image.7975.jpg', 'image.7983.jpg', 'image.7991.jpg', 'image.7999.jpg', 'image.8005.jpg', 'image.8011.jpg', 'image.8015.jpg', 'image.8028.jpg', 'image.8037.jpg', 'image.3854.jpg', 'image.8054.jpg', 'image.8059.jpg', 'image.4891.jpg', 'image.8069.jpg', 'image.8081.jpg', 'image.8089.jpg', 'image.8095.jpg']\n",
      "/Users/jeelshah/Documents/Fall 2023/ANLP/project/bla/VWSD/small_submissions/clip_base_ft_aug/val_submission_FullSentence.txt\n",
      "['image.2166.jpg', 'image.4429.png', 'image.4432.jpg', 'image.1435.jpg', 'image.4455.jpg', 'image.4464.jpg', 'image.4471.jpg', 'image.4476.jpg', 'image.4495.jpg', 'image.4499.jpg', 'image.4506.jpg', 'image.4521.jpg', 'image.4532.jpg', 'image.4542.jpg', 'image.4551.jpg', 'image.4562.jpg', 'image.4570.jpg', 'image.4573.jpg', 'image.4588.jpg', 'image.4592.jpg', 'image.4604.jpg', 'image.4611.jpg', 'image.4615.jpg', 'image.4631.jpg', 'image.4638.jpg', 'image.4642.jpg', 'image.4654.jpg', 'image.4664.jpg', 'image.4670.jpg', 'image.4678.jpg', 'image.4695.jpg', 'image.2003.jpg', 'image.4705.jpg', 'image.4720.jpg', 'image.4727.jpg', 'image.4735.jpg', 'image.668.jpg', 'image.4758.jpg', 'image.4761.jpg', 'image.1910.jpg', 'image.3552.jpg', 'image.2150.jpg', 'image.4805.jpg', 'image.1295.jpg', 'image.4826.jpg', 'image.2809.jpg', 'image.4840.jpg', 'image.4850.jpg', 'image.4857.jpg', 'image.4870.jpg', 'image.4877.jpg', 'image.2585.jpg', 'image.4890.jpg', 'image.4903.jpg', 'image.4911.jpg', 'image.4920.jpg', 'image.4930.jpg', 'image.4942.png', 'image.4952.jpg', 'image.4542.jpg', 'image.4969.jpg', 'image.4978.jpg', 'image.4985.jpg', 'image.256.jpg', 'image.5001.jpg', 'image.5013.jpg', 'image.5022.jpg', 'image.5027.jpg', 'image.4209.jpg', 'image.5045.jpg', 'image.5052.jpg', 'image.5062.jpg', 'image.5071.jpg', 'image.5084.jpg', 'image.5095.jpg', 'image.5098.jpg', 'image.5110.jpg', 'image.5119.jpg', 'image.5132.jpg', 'image.5134.jpg', 'image.5150.jpg', 'image.5155.JPG', 'image.5163.jpg', 'image.1397.jpg', 'image.5181.jpg', 'image.5184.jpg', 'image.5192.jpg', 'image.5202.jpg', 'image.5216.jpg', 'image.5221.jpg', 'image.5234.jpg', 'image.5238.jpg', 'image.5248.jpg', 'image.5253.jpg', 'image.5264.jpg', 'image.5270.jpg', 'image.5287.jpg', 'image.5291.png', 'image.4859.jpg', 'image.5309.jpg', 'image.5318.jpg', 'image.5328.jpg', 'image.4570.jpg', 'image.5346.jpg', 'image.5357.jpg', 'image.5367.jpg', 'image.5371.jpg', 'image.5382.jpg', 'image.5388.jpg', 'image.5399.jpg', 'image.5408.jpg', 'image.5418.jpg', 'image.2711.jpg', 'image.5433.jpg', 'image.5443.jpg', 'image.5456.jpg', 'image.5463.jpg', 'image.5469.jpg', 'image.435.jpg', 'image.5493.jpg', 'image.5504.jpg', 'image.5511.jpg', 'image.5518.jpg', 'image.5523.jpg', 'image.2742.jpg', 'image.5546.jpg', 'image.5551.jpg', 'image.2629.jpg', 'image.5567.jpg', 'image.5571.jpg', 'image.5582.jpg', 'image.5586.jpg', 'image.5596.jpg', 'image.5604.jpg', 'image.5604.jpg', 'image.5619.jpg', 'image.5630.jpg', 'image.5641.jpg', 'image.5650.jpg', 'image.5659.jpg', 'image.4955.jpg', 'image.5671.jpg', 'image.5675.jpg', 'image.5688.jpg', 'image.5700.jpg', 'image.5702.jpg', 'image.5718.jpg', 'image.5726.jpg', 'image.2680.jpg', 'image.5734.jpg', 'image.5718.jpg', 'image.5753.jpg', 'image.5134.jpg', 'image.5767.jpg', 'image.5776.jpg', 'image.5781.jpg', 'image.485.jpg', 'image.5432.jpg', 'image.5800.jpg', 'image.4632.jpg', 'image.5819.jpg', 'image.5820.jpg', 'image.3776.jpg', 'image.5841.jpg', 'image.5850.jpg', 'image.5854.jpg', 'image.1222.jpg', 'image.5873.jpg', 'image.91.jpg', 'image.4346.jpg', 'image.4354.jpg', 'image.5914.jpg', 'image.5923.jpg', 'image.5928.jpg', 'image.5939.jpg', 'image.5943.jpg', 'image.423.jpg', 'image.5956.jpg', 'image.5967.jpg', 'image.5973.jpg', 'image.5987.jpg', 'image.3233.jpg', 'image.6001.jpg', 'image.1899.jpg', 'image.5307.jpg', 'image.6019.jpg', 'image.1870.jpg', 'image.6037.jpg', 'image.6045.jpg', 'image.6052.jpg', 'image.5973.jpg', 'image.6067.jpg', 'image.6073.jpg', 'image.4670.jpg', 'image.2323.jpg', 'image.6097.jpg', 'image.6102.jpg', 'image.6115.jpg', 'image.4952.jpg', 'image.157.jpg', 'image.6138.jpg', 'image.6145.jpg', 'image.6154.jpg', 'image.6160.jpg', 'image.6167.jpg', 'image.6178.jpg', 'image.6185.jpg', 'image.6192.jpg', 'image.6203.jpg', 'image.6213.jpg', 'image.3671.jpg', 'image.6235.jpg', 'image.6244.jpg', 'image.6248.jpg', 'image.6255.jpg', 'image.6262.jpg', 'image.6273.jpg', 'image.6282.jpg', 'image.1203.jpg', 'image.6304.jpg', 'image.6310.jpg', 'image.1153.jpg', 'image.6323.jpg', 'image.2026.jpg', 'image.6333.jpg', 'image.4569.jpg', 'image.235.jpg', 'image.6356.jpg', 'image.6363.jpg', 'image.6368.jpg', 'image.6376.jpg', 'image.6388.jpg', 'image.1796.jpg', 'image.6406.jpg', 'image.6412.jpg', 'image.6426.jpg', 'image.6433.jpg', 'image.6449.jpg', 'image.6460.jpg', 'image.6468.jpg', 'image.6478.jpg', 'image.6484.jpg', 'image.5700.jpg', 'image.6496.jpg', 'image.558.jpg', 'image.6519.jpg', 'image.6526.jpg', 'image.6537.jpg', 'image.6539.jpg', 'image.6553.jpg', 'image.6562.jpg', 'image.6566.jpg', 'image.6575.jpg', 'image.6583.jpg', 'image.5854.jpg', 'image.6602.jpg', 'image.6612.jpg', 'image.6618.jpg', 'image.6623.jpg', 'image.6629.jpg', 'image.2026.jpg', 'image.6640.jpg', 'image.6642.jpg', 'image.6651.jpg', 'image.6660.jpg', 'image.6672.jpg', 'image.6679.jpg', 'image.5800.jpg', 'image.2098.jpg', 'image.6701.jpg', 'image.6709.jpg', 'image.6721.jpg', 'image.6728.jpg', 'image.6742.jpg', 'image.6745.jpg', 'image.6753.png', 'image.6764.jpg', 'image.6769.jpg', 'image.6776.jpg', 'image.6784.jpg', 'image.6792.jpg', 'image.6799.jpg', 'image.6807.jpg', 'image.6811.jpg', 'image.6819.jpg', 'image.6829.jpg', 'image.1096.jpg', 'image.6844.jpg', 'image.6852.jpg', 'image.884.jpg', 'image.6865.jpg', 'image.6872.jpg', 'image.6878.jpg', 'image.6883.jpg', 'image.6895.jpg', 'image.6902.jpg', 'image.6442.jpg', 'image.6907.jpg', 'image.6916.jpg', 'image.6928.jpg', 'image.6933.jpg', 'image.1701.jpg', 'image.1371.jpg', 'image.2297.jpg', 'image.6958.jpg', 'image.6966.jpg', 'image.6972.jpg', 'image.6984.jpg', 'image.6989.jpg', 'image.7002.jpg', 'image.7007.jpg', 'image.7010.jpg', 'image.6179.jpg', 'image.7025.jpg', 'image.7028.jpg', 'image.7035.jpg', 'image.7046.jpg', 'image.7056.jpg', 'image.93.jpg', 'image.7067.jpg', 'image.1658.jpg', 'image.7082.jpg', 'image.7091.jpg', 'image.7099.jpg', 'image.7106.jpg', 'image.7117.jpeg', 'image.7127.jpg', 'image.5956.jpg', 'image.7137.jpg', 'image.3149.jpg', 'image.7149.jpg', 'image.7159.jpg', 'image.7167.jpg', 'image.1182.jpg', 'image.7182.jpg', 'image.7192.jpg', 'image.7200.jpg', 'image.3337.jpg', 'image.1018.jpg', 'image.7210.jpg', 'image.7220.jpg', 'image.7232.jpg', 'image.7238.jpg', 'image.869.jpg', 'image.837.jpg', 'image.6519.jpg', 'image.7262.jpg', 'image.7267.jpg', 'image.7278.jpg', 'image.7282.jpg', 'image.7289.jpg', 'image.7293.jpg', 'image.7309.jpg', 'image.7311.jpg', 'image.7322.jpg', 'image.7327.jpg', 'image.68.jpg', 'image.7345.jpg', 'image.7346.jpg', 'image.7361.jpg', 'image.6087.jpg', 'image.1403.jpg', 'image.7376.jpg', 'image.7382.jpg', 'image.7389.jpg', 'image.7398.jpg', 'image.1943.jpg', 'image.7415.jpg', 'image.7422.jpg', 'image.7427.jpg', 'image.7437.jpg', 'image.7443.jpg', 'image.7449.jpg', 'image.7457.jpg', 'image.7467.jpg', 'image.7473.jpg', 'image.7480.jpg', 'image.7486.jpg', 'image.7497.jpg', 'image.216.jpg', 'image.948.jpg', 'image.7515.jpg', 'image.7523.jpg', 'image.7531.jpg', 'image.7540.jpg', 'image.7547.jpg', 'image.7560.jpg', 'image.6662.jpg', 'image.7573.jpg', 'image.495.jpg', 'image.4640.jpg', 'image.7596.jpg', 'image.7600.jpg', 'image.7614.jpg', 'image.7622.jpg', 'image.7626.jpg', 'image.5887.jpg', 'image.7646.jpg', 'image.7649.jpg', 'image.7656.jpg', 'image.7667.jpg', 'image.6849.jpg', 'image.7682.jpg', 'image.7687.jpg', 'image.2031.jpg', 'image.6646.jpg', 'image.7703.jpg', 'image.7709.jpg', 'image.7719.jpg', 'image.7725.jpg', 'image.7737.jpg', 'image.6624.jpg', 'image.4686.jpeg', 'image.194.jpg', 'image.7763.jpg', 'image.7770.jpg', 'image.7779.jpg', 'image.7414.jpg', 'image.7794.jpg', 'image.7809.jpg', 'image.7815.png', 'image.7819.jpg', 'image.7822.jpg', 'image.7831.jpg', 'image.7833.jpg', 'image.7839.jpg', 'image.7853.jpg', 'image.2432.jpg', 'image.277.jpg', 'image.7871.jpg', 'image.5604.jpg', 'image.7880.jpg', 'image.7891.jpg', 'image.7898.jpg', 'image.7904.jpg', 'image.7912.jpg', 'image.7921.jpg', 'image.7929.jpg', 'image.7931.jpg', 'image.7938.jpg', 'image.7946.jpg', 'image.7955.jpg', 'image.7959.jpg', 'image.7971.jpg', 'image.7975.jpg', 'image.7983.jpg', 'image.7991.jpg', 'image.7999.jpg', 'image.8005.jpg', 'image.8011.jpg', 'image.8015.jpg', 'image.8028.jpg', 'image.8037.jpg', 'image.3854.jpg', 'image.8054.jpg', 'image.8059.jpg', 'image.4891.jpg', 'image.8072.jpg', 'image.8081.jpg', 'image.8089.jpg', 'image.8095.jpg']\n",
      "/Users/jeelshah/Documents/Fall 2023/ANLP/project/bla/VWSD/small_submissions/clip_base_ft_noloss/val_submission_FullSentence.txt\n",
      "['image.2166.jpg', 'image.4429.png', 'image.4432.jpg', 'image.1435.jpg', 'image.4455.jpg', 'image.4464.jpg', 'image.4471.jpg', 'image.4476.jpg', 'image.4495.jpg', 'image.4499.jpg', 'image.4506.jpg', 'image.4521.jpg', 'image.4532.jpg', 'image.4542.jpg', 'image.4551.jpg', 'image.4562.jpg', 'image.4564.jpg', 'image.4573.jpg', 'image.4588.jpg', 'image.4592.jpg', 'image.4604.jpg', 'image.4611.jpg', 'image.4615.jpg', 'image.4631.jpg', 'image.4638.jpg', 'image.4642.jpg', 'image.4654.jpg', 'image.4664.jpg', 'image.4668.jpg', 'image.4678.jpg', 'image.4695.jpg', 'image.2003.jpg', 'image.4705.jpg', 'image.4720.jpg', 'image.4727.jpg', 'image.4735.jpg', 'image.668.jpg', 'image.4758.jpg', 'image.4761.jpg', 'image.1910.jpg', 'image.4794.jpg', 'image.2150.jpg', 'image.4805.jpg', 'image.1295.jpg', 'image.4826.jpg', 'image.2962.jpg', 'image.4840.jpg', 'image.4850.jpg', 'image.4857.jpg', 'image.4870.jpg', 'image.4877.jpg', 'image.2585.jpg', 'image.4891.jpg', 'image.4903.jpg', 'image.4911.jpg', 'image.4920.jpg', 'image.4930.jpg', 'image.4942.png', 'image.4952.jpg', 'image.4542.jpg', 'image.4969.jpg', 'image.4978.jpg', 'image.4985.jpg', 'image.256.jpg', 'image.5002.jpg', 'image.5013.jpg', 'image.5022.jpg', 'image.5027.jpg', 'image.4209.jpg', 'image.5045.jpg', 'image.5052.jpg', 'image.5062.jpg', 'image.5071.jpg', 'image.5084.jpg', 'image.5095.jpg', 'image.5098.jpg', 'image.5110.jpg', 'image.5119.jpg', 'image.5132.jpg', 'image.5134.jpg', 'image.5150.jpg', 'image.5155.JPG', 'image.5163.jpg', 'image.1397.jpg', 'image.5181.jpg', 'image.5184.jpg', 'image.5192.jpg', 'image.5202.jpg', 'image.5216.jpg', 'image.5221.jpg', 'image.5234.jpg', 'image.5238.jpg', 'image.5248.jpg', 'image.5253.jpg', 'image.5264.jpg', 'image.5270.jpg', 'image.5287.jpg', 'image.5291.png', 'image.4859.jpg', 'image.5309.jpg', 'image.5318.jpg', 'image.5328.jpg', 'image.4570.jpg', 'image.5346.jpg', 'image.5358.jpg', 'image.5367.jpg', 'image.5371.jpg', 'image.5382.jpg', 'image.5388.jpg', 'image.5399.jpg', 'image.5408.jpg', 'image.5418.jpg', 'image.2711.jpg', 'image.5433.jpg', 'image.5443.jpg', 'image.5456.jpg', 'image.5463.jpg', 'image.5469.jpg', 'image.435.jpg', 'image.5493.jpg', 'image.5504.jpg', 'image.5511.jpg', 'image.5518.jpg', 'image.5523.jpg', 'image.1071.jpg', 'image.5546.jpg', 'image.5551.jpg', 'image.2629.jpg', 'image.5567.jpg', 'image.5571.jpg', 'image.5582.jpg', 'image.5586.jpg', 'image.5596.jpg', 'image.5604.jpg', 'image.5604.jpg', 'image.5619.jpg', 'image.5630.jpg', 'image.5641.jpg', 'image.5648.jpg', 'image.5659.jpg', 'image.4963.jpg', 'image.5671.jpg', 'image.5675.jpg', 'image.5688.jpg', 'image.5700.jpg', 'image.5702.jpg', 'image.5718.jpg', 'image.5726.jpg', 'image.2680.jpg', 'image.5734.jpg', 'image.5718.jpg', 'image.5753.jpg', 'image.5134.jpg', 'image.5767.jpg', 'image.5776.jpg', 'image.5781.jpg', 'image.485.jpg', 'image.5432.jpg', 'image.5800.jpg', 'image.4632.jpg', 'image.5819.jpg', 'image.5820.jpg', 'image.3776.jpg', 'image.5839.jpg', 'image.5850.jpg', 'image.5854.jpg', 'image.1222.jpg', 'image.5873.jpg', 'image.91.jpg', 'image.4346.jpg', 'image.4354.jpg', 'image.5914.jpg', 'image.5923.jpg', 'image.5928.jpg', 'image.5939.jpg', 'image.5943.jpg', 'image.423.jpg', 'image.5956.jpg', 'image.5970.jpg', 'image.5977.jpg', 'image.5987.jpg', 'image.3233.jpg', 'image.6001.jpg', 'image.1899.jpg', 'image.5307.jpg', 'image.6019.jpg', 'image.1870.jpg', 'image.6037.jpg', 'image.6045.jpg', 'image.6052.jpg', 'image.5973.jpg', 'image.6067.jpg', 'image.6073.jpg', 'image.2342.jpg', 'image.2323.jpg', 'image.6097.jpg', 'image.6102.jpg', 'image.6115.jpg', 'image.4952.jpg', 'image.157.jpg', 'image.6138.jpg', 'image.6145.jpg', 'image.6154.jpg', 'image.6160.jpg', 'image.6167.jpg', 'image.6178.jpg', 'image.6185.jpg', 'image.6192.jpg', 'image.6203.jpg', 'image.6213.jpg', 'image.3671.jpg', 'image.6235.jpg', 'image.6244.jpg', 'image.5326.jpg', 'image.6255.jpg', 'image.6262.jpg', 'image.6273.jpg', 'image.6282.jpg', 'image.1203.jpg', 'image.6304.jpg', 'image.6310.jpg', 'image.857.jpg', 'image.6323.jpg', 'image.2026.jpg', 'image.6333.jpg', 'image.4569.jpg', 'image.235.jpg', 'image.6356.jpg', 'image.6363.jpg', 'image.6368.jpg', 'image.6376.jpg', 'image.6388.jpg', 'image.1796.jpg', 'image.6398.jpg', 'image.6412.jpg', 'image.6426.jpg', 'image.6435.jpg', 'image.6449.jpg', 'image.6460.jpg', 'image.6468.jpg', 'image.6478.jpg', 'image.6484.jpg', 'image.5700.jpg', 'image.6496.jpg', 'image.558.jpg', 'image.6519.jpg', 'image.6526.jpg', 'image.6537.jpg', 'image.6539.jpg', 'image.6553.jpg', 'image.6562.jpg', 'image.6566.jpg', 'image.6575.jpg', 'image.6587.jpg', 'image.5854.jpg', 'image.6602.jpg', 'image.6612.jpg', 'image.6618.jpg', 'image.6623.jpg', 'image.6627.jpg', 'image.2026.jpg', 'image.6640.jpg', 'image.6642.jpg', 'image.6651.jpg', 'image.6660.jpg', 'image.6672.jpg', 'image.6679.jpg', 'image.5800.jpg', 'image.2098.jpg', 'image.6701.jpg', 'image.6709.jpg', 'image.6721.jpg', 'image.6729.jpg', 'image.6742.jpg', 'image.6745.jpg', 'image.6753.png', 'image.6764.jpg', 'image.6769.jpg', 'image.6776.jpg', 'image.6784.jpg', 'image.6792.jpg', 'image.6799.jpg', 'image.6807.jpg', 'image.6811.jpg', 'image.6819.jpg', 'image.6829.jpg', 'image.1096.jpg', 'image.6844.jpg', 'image.6852.jpg', 'image.884.jpg', 'image.6865.jpg', 'image.6872.jpg', 'image.6878.jpg', 'image.6883.jpg', 'image.6895.jpg', 'image.6902.jpg', 'image.6442.jpg', 'image.6907.jpg', 'image.6916.jpg', 'image.6928.jpg', 'image.6933.jpg', 'image.1701.jpg', 'image.1371.jpg', 'image.2297.jpg', 'image.6958.jpg', 'image.6965.jpg', 'image.6972.jpg', 'image.6984.jpg', 'image.6989.jpg', 'image.7002.jpg', 'image.7007.jpg', 'image.7010.jpg', 'image.6179.jpg', 'image.7025.jpg', 'image.7028.jpg', 'image.7035.jpg', 'image.21.jpg', 'image.7056.jpg', 'image.93.jpg', 'image.7067.jpg', 'image.1658.jpg', 'image.7082.jpg', 'image.7091.jpg', 'image.7099.jpg', 'image.7106.jpg', 'image.7117.jpeg', 'image.7127.jpg', 'image.5956.jpg', 'image.7137.jpg', 'image.3149.jpg', 'image.7149.jpg', 'image.7159.jpg', 'image.7167.jpg', 'image.1182.jpg', 'image.7182.jpg', 'image.7192.jpg', 'image.7200.jpg', 'image.3337.jpg', 'image.1018.jpg', 'image.7210.jpg', 'image.7220.jpg', 'image.7232.jpg', 'image.7238.jpg', 'image.869.jpg', 'image.837.jpg', 'image.6519.jpg', 'image.7262.jpg', 'image.7267.jpg', 'image.7278.jpg', 'image.7282.jpg', 'image.7289.jpg', 'image.7293.jpg', 'image.7309.jpg', 'image.7311.jpg', 'image.7322.jpg', 'image.7327.jpg', 'image.68.jpg', 'image.7345.jpg', 'image.7346.jpg', 'image.7361.jpg', 'image.6087.jpg', 'image.1403.jpg', 'image.7376.jpg', 'image.7382.jpg', 'image.7389.jpg', 'image.7398.jpg', 'image.1943.jpg', 'image.7415.jpg', 'image.7422.jpg', 'image.7427.jpg', 'image.7437.jpg', 'image.7443.jpg', 'image.7449.jpg', 'image.7457.jpg', 'image.7467.jpg', 'image.7473.jpg', 'image.7480.jpg', 'image.7486.jpg', 'image.7497.jpg', 'image.216.jpg', 'image.948.jpg', 'image.7515.jpg', 'image.7523.jpg', 'image.7531.jpg', 'image.7540.jpg', 'image.7547.jpg', 'image.7560.jpg', 'image.7565.jpg', 'image.7573.jpg', 'image.495.jpg', 'image.4640.jpg', 'image.7596.jpg', 'image.7600.jpg', 'image.7614.jpg', 'image.7622.jpg', 'image.7626.jpg', 'image.5887.jpg', 'image.7646.jpg', 'image.7649.jpg', 'image.7656.jpg', 'image.7667.jpg', 'image.7671.jpg', 'image.7682.jpg', 'image.7687.jpg', 'image.2031.jpg', 'image.6646.jpg', 'image.7703.jpg', 'image.7709.jpg', 'image.7719.jpg', 'image.7725.jpg', 'image.7737.jpg', 'image.6624.jpg', 'image.4686.jpeg', 'image.194.jpg', 'image.7763.jpg', 'image.7770.jpg', 'image.7779.jpg', 'image.7414.jpg', 'image.7794.jpg', 'image.7809.jpg', 'image.7815.png', 'image.7819.jpg', 'image.7822.jpg', 'image.7831.jpg', 'image.7833.jpg', 'image.7839.jpg', 'image.7853.jpg', 'image.2432.jpg', 'image.277.jpg', 'image.7871.jpg', 'image.5604.jpg', 'image.7880.jpg', 'image.7891.jpg', 'image.7898.jpg', 'image.7904.jpg', 'image.7912.jpg', 'image.7921.jpg', 'image.7929.jpg', 'image.7931.jpg', 'image.7938.jpg', 'image.7946.jpg', 'image.7955.jpg', 'image.7959.jpg', 'image.7971.jpg', 'image.7975.jpg', 'image.7983.jpg', 'image.7991.jpg', 'image.7999.jpg', 'image.8005.jpg', 'image.8011.jpg', 'image.8015.jpg', 'image.8028.jpg', 'image.8037.jpg', 'image.3854.jpg', 'image.8054.jpg', 'image.8059.jpg', 'image.4891.jpg', 'image.8069.jpg', 'image.8081.jpg', 'image.8089.jpg', 'image.8095.jpg']\n",
      "/Users/jeelshah/Documents/Fall 2023/ANLP/project/bla/VWSD/small_submissions/meta_clip_small/val_submission_FullSentence.txt\n",
      "['image.2166.jpg', 'image.4429.png', 'image.4431.jpg', 'image.1435.jpg', 'image.4455.jpg', 'image.4464.jpg', 'image.4471.jpg', 'image.4476.jpg', 'image.4495.jpg', 'image.4503.jpg', 'image.4509.jpg', 'image.4521.jpg', 'image.4525.jpg', 'image.4542.jpg', 'image.4545.jpg', 'image.4556.jpg', 'image.4570.jpg', 'image.4573.jpg', 'image.4588.jpg', 'image.4592.jpg', 'image.4604.jpg', 'image.4611.jpg', 'image.4615.jpg', 'image.4631.jpg', 'image.4638.jpg', 'image.4642.jpg', 'image.4654.jpg', 'image.4664.jpg', 'image.4670.jpg', 'image.4678.jpg', 'image.4695.jpg', 'image.2003.jpg', 'image.4705.jpg', 'image.4720.jpg', 'image.4727.jpg', 'image.4740.jpg', 'image.4742.jpg', 'image.4758.jpg', 'image.4761.jpg', 'image.1910.jpg', 'image.3552.jpg', 'image.2150.jpg', 'image.1039.jpg', 'image.4817.jpg', 'image.4826.jpg', 'image.2962.jpg', 'image.4840.jpg', 'image.4850.jpg', 'image.4854.jpg', 'image.4862.jpg', 'image.4877.jpg', 'image.2585.jpg', 'image.4891.jpg', 'image.4896.jpg', 'image.4911.jpg', 'image.4920.jpg', 'image.4930.jpg', 'image.4942.png', 'image.4952.jpg', 'image.4542.jpg', 'image.4969.jpg', 'image.4978.jpg', 'image.4640.jpg', 'image.256.jpg', 'image.5005.jpg', 'image.967.jpg', 'image.5022.jpg', 'image.2385.jpg', 'image.4209.jpg', 'image.5041.jpg', 'image.5052.jpg', 'image.5062.jpg', 'image.5071.jpg', 'image.5085.jpg', 'image.5095.jpg', 'image.5102.jpg', 'image.5110.jpg', 'image.5119.jpg', 'image.5132.jpg', 'image.5134.jpg', 'image.5146.jpg', 'image.5159.jpg', 'image.5163.jpg', 'image.1397.jpg', 'image.5181.jpg', 'image.5184.jpg', 'image.5197.jpg', 'image.5202.jpg', 'image.5216.jpg', 'image.5221.jpg', 'image.5230.jpg', 'image.5238.jpg', 'image.5248.jpg', 'image.5260.png', 'image.5265.jpg', 'image.5271.jpg', 'image.5287.jpg', 'image.1773.jpg', 'image.4859.jpg', 'image.5309.jpg', 'image.5318.jpg', 'image.5328.jpg', 'image.4570.jpg', 'image.5346.jpg', 'image.5357.jpg', 'image.5367.jpg', 'image.5371.jpg', 'image.5382.jpg', 'image.5393.jpg', 'image.5404.jpg', 'image.5408.jpg', 'image.5418.jpg', 'image.2711.jpg', 'image.319.jpg', 'image.5443.jpg', 'image.5456.jpg', 'image.5463.jpg', 'image.5469.jpg', 'image.435.jpg', 'image.5493.jpg', 'image.5504.jpg', 'image.5511.jpg', 'image.5518.jpg', 'image.5523.jpg', 'image.1071.jpg', 'image.5546.jpg', 'image.5551.jpg', 'image.2629.jpg', 'image.5565.jpg', 'image.5571.jpg', 'image.5582.jpg', 'image.5586.jpg', 'image.5594.jpg', 'image.5604.jpg', 'image.5607.jpg', 'image.5617.jpg', 'image.5627.jpg', 'image.5641.jpg', 'image.5648.jpg', 'image.5659.jpg', 'image.4955.jpg', 'image.5671.jpg', 'image.5675.jpg', 'image.5691.jpg', 'image.5700.jpg', 'image.5708.jpg', 'image.5718.jpg', 'image.5726.jpg', 'image.5729.jpg', 'image.5734.jpg', 'image.5740.png', 'image.5753.jpg', 'image.5134.jpg', 'image.5767.jpg', 'image.5775.jpg', 'image.5781.jpg', 'image.485.jpg', 'image.5432.jpg', 'image.5800.jpg', 'image.4629.jpg', 'image.5819.jpg', 'image.5820.jpg', 'image.3776.jpg', 'image.5841.jpg', 'image.5852.jpg', 'image.5854.jpg', 'image.1222.jpg', 'image.5873.jpg', 'image.91.jpg', 'image.5890.jpg', 'image.4354.jpg', 'image.5905.jpg', 'image.5916.jpg', 'image.4622.jpg', 'image.5939.jpg', 'image.5945.jpg', 'image.423.jpg', 'image.5956.jpg', 'image.5967.jpg', 'image.5976.jpg', 'image.5987.jpg', 'image.3233.jpg', 'image.5999.jpg', 'image.1899.jpg', 'image.6011.jpg', 'image.6018.jpg', 'image.1870.jpg', 'image.6035.jpg', 'image.6045.jpg', 'image.6052.jpg', 'image.6060.jpg', 'image.6067.jpg', 'image.6073.jpg', 'image.4670.jpg', 'image.2323.jpg', 'image.6097.jpg', 'image.6102.jpg', 'image.6115.jpg', 'image.4952.jpg', 'image.157.jpg', 'image.6134.jpg', 'image.6145.jpg', 'image.2053.jpg', 'image.6160.jpg', 'image.6167.jpg', 'image.6179.jpg', 'image.6185.jpg', 'image.6192.jpg', 'image.6203.jpg', 'image.6213.jpg', 'image.6221.jpg', 'image.6235.jpg', 'image.6237.jpg', 'image.6248.jpg', 'image.6255.jpg', 'image.6262.jpg', 'image.6273.jpg', 'image.6282.jpg', 'image.1388.jpg', 'image.6304.jpg', 'image.86.jpg', 'image.1153.jpg', 'image.6323.jpg', 'image.2026.jpg', 'image.6333.jpg', 'image.4569.jpg', 'image.235.jpg', 'image.6348.jpg', 'image.6361.jpg', 'image.6368.jpg', 'image.6376.jpg', 'image.6383.jpg', 'image.1796.jpg', 'image.6406.jpg', 'image.6409.jpg', 'image.6426.jpg', 'image.6435.jpg', 'image.6449.jpg', 'image.6460.jpg', 'image.6468.jpg', 'image.6478.jpg', 'image.6484.jpg', 'image.5700.jpg', 'image.6491.jpg', 'image.558.jpg', 'image.6511.jpg', 'image.6526.jpg', 'image.6535.jpg', 'image.2544.jpg', 'image.6553.jpg', 'image.6562.jpg', 'image.6566.jpg', 'image.6575.jpg', 'image.6583.jpg', 'image.5854.jpg', 'image.6602.jpg', 'image.6611.jpg', 'image.1624.jpg', 'image.6624.jpg', 'image.245.jpg', 'image.2026.jpg', 'image.6640.jpg', 'image.6642.jpg', 'image.6651.jpg', 'image.2149.jpg', 'image.6669.jpg', 'image.6679.jpg', 'image.5800.jpg', 'image.2098.jpg', 'image.6701.jpg', 'image.6709.jpg', 'image.6721.jpg', 'image.6729.jpg', 'image.6736.jpg', 'image.6745.jpg', 'image.6753.png', 'image.6764.jpg', 'image.6769.jpg', 'image.6776.jpg', 'image.6784.jpg', 'image.6792.jpg', 'image.6799.jpg', 'image.6807.jpg', 'image.6815.jpg', 'image.6821.jpg', 'image.6829.jpg', 'image.1096.jpg', 'image.6844.jpg', 'image.6845.jpg', 'image.6855.jpg', 'image.6865.jpg', 'image.6874.jpg', 'image.6878.jpg', 'image.6883.jpg', 'image.6895.jpg', 'image.6902.jpg', 'image.6445.jpg', 'image.6907.jpg', 'image.763.jpg', 'image.6928.jpg', 'image.6933.jpg', 'image.1701.jpg', 'image.1371.jpg', 'image.2297.jpg', 'image.6958.jpg', 'image.6964.jpg', 'image.6972.jpg', 'image.6980.jpg', 'image.6989.jpg', 'image.7002.jpg', 'image.7007.jpg', 'image.7010.jpg', 'image.6179.jpg', 'image.7025.jpg', 'image.1448.jpg', 'image.7035.jpg', 'image.7046.jpg', 'image.7056.jpg', 'image.7060.jpg', 'image.7067.jpg', 'image.1658.jpg', 'image.2408.jpg', 'image.7091.jpg', 'image.7099.jpg', 'image.7108.png', 'image.7120.jpg', 'image.7127.jpg', 'image.5956.jpg', 'image.7137.jpg', 'image.3149.jpg', 'image.7149.jpg', 'image.7159.jpg', 'image.1723.jpg', 'image.7174.jpg', 'image.7182.jpg', 'image.7192.jpg', 'image.7200.jpg', 'image.3337.jpg', 'image.8022.jpg', 'image.7210.jpg', 'image.7220.jpg', 'image.7232.jpg', 'image.7238.jpg', 'image.869.jpg', 'image.837.jpg', 'image.6519.jpg', 'image.7262.jpg', 'image.7267.jpg', 'image.7278.jpg', 'image.351.jpg', 'image.7289.jpg', 'image.7293.jpg', 'image.7309.jpg', 'image.7311.jpg', 'image.7322.jpg', 'image.7327.jpg', 'image.7242.jpg', 'image.5011.jpg', 'image.7346.jpg', 'image.7361.jpg', 'image.7366.jpg', 'image.1403.jpg', 'image.7307.jpg', 'image.7382.jpg', 'image.7389.jpg', 'image.139.jpg', 'image.1943.jpg', 'image.6354.jpg', 'image.7422.jpg', 'image.7427.jpg', 'image.7437.jpg', 'image.7442.jpg', 'image.1381.jpg', 'image.7457.jpg', 'image.7467.jpg', 'image.7473.jpg', 'image.7164.jpg', 'image.5194.jpg', 'image.7492.jpg', 'image.216.jpg', 'image.948.jpg', 'image.7515.jpg', 'image.7525.jpg', 'image.7531.jpg', 'image.7540.jpg', 'image.7547.jpg', 'image.7560.jpg', 'image.7565.jpg', 'image.7573.jpg', 'image.495.jpg', 'image.4640.jpg', 'image.7596.jpg', 'image.7600.jpg', 'image.7614.jpg', 'image.7622.jpg', 'image.7626.jpg', 'image.7635.jpg', 'image.7646.jpg', 'image.7649.jpg', 'image.7658.jpg', 'image.7664.jpg', 'image.6849.jpg', 'image.3157.jpg', 'image.7687.jpg', 'image.7693.jpg', 'image.7695.jpg', 'image.7703.jpg', 'image.7709.jpg', 'image.7722.jpg', 'image.7725.jpg', 'image.7737.jpg', 'image.7745.jpg', 'image.4686.jpeg', 'image.194.jpg', 'image.7763.jpg', 'image.7770.jpg', 'image.7777.jpg', 'image.7414.jpg', 'image.7792.jpg', 'image.7809.jpg', 'image.7815.png', 'image.7819.jpg', 'image.7822.jpg', 'image.7831.jpg', 'image.5024.jpg', 'image.7839.jpg', 'image.7853.jpg', 'image.2432.jpg', 'image.277.jpg', 'image.7871.jpg', 'image.5604.jpg', 'image.7880.jpg', 'image.7891.jpg', 'image.7898.jpg', 'image.7904.jpg', 'image.7912.jpg', 'image.7919.jpg', 'image.7927.jpg', 'image.7931.jpg', 'image.7938.jpg', 'image.7946.jpg', 'image.7954.jpg', 'image.7959.jpg', 'image.7971.jpg', 'image.7975.jpg', 'image.7985.jpg', 'image.7991.jpg', 'image.7999.jpg', 'image.8005.jpg', 'image.8011.jpg', 'image.8015.jpg', 'image.8028.jpg', 'image.8037.jpg', 'image.3854.jpg', 'image.8054.jpg', 'image.8059.jpg', 'image.4891.jpg', 'image.8071.jpg', 'image.8081.jpg', 'image.8089.jpg', 'image.8094.jpg']\n",
      "/Users/jeelshah/Documents/Fall 2023/ANLP/project/bla/VWSD/small_submissions/metaclip_sm_ft_submissions/val_submission_FullSentence.txt\n",
      "['image.2166.jpg', 'image.4429.png', 'image.4432.jpg', 'image.1435.jpg', 'image.4455.jpg', 'image.4464.jpg', 'image.4471.jpg', 'image.4476.jpg', 'image.4495.jpg', 'image.4503.jpg', 'image.4505.jpg', 'image.4521.jpg', 'image.4525.jpg', 'image.4542.jpg', 'image.4550.jpg', 'image.4556.jpg', 'image.4570.jpg', 'image.4573.jpg', 'image.4588.jpg', 'image.4592.jpg', 'image.4604.jpg', 'image.4611.jpg', 'image.4615.jpg', 'image.4631.jpg', 'image.4638.jpg', 'image.4642.jpg', 'image.4654.jpg', 'image.4664.jpg', 'image.4670.jpg', 'image.4678.jpg', 'image.4695.jpg', 'image.2003.jpg', 'image.4705.jpg', 'image.4720.jpg', 'image.4727.jpg', 'image.4740.jpg', 'image.4742.jpg', 'image.4758.jpg', 'image.4761.jpg', 'image.1910.jpg', 'image.3552.jpg', 'image.2150.jpg', 'image.1039.jpg', 'image.4817.jpg', 'image.4826.jpg', 'image.2962.jpg', 'image.4840.jpg', 'image.4850.jpg', 'image.4857.jpg', 'image.4861.jpg', 'image.4877.jpg', 'image.2585.jpg', 'image.4891.jpg', 'image.4903.jpg', 'image.4911.jpg', 'image.4920.jpg', 'image.4930.jpg', 'image.4942.png', 'image.4949.jpg', 'image.4542.jpg', 'image.4969.jpg', 'image.4978.jpg', 'image.4640.jpg', 'image.256.jpg', 'image.5005.jpg', 'image.967.jpg', 'image.5022.jpg', 'image.2385.jpg', 'image.4209.jpg', 'image.5041.jpg', 'image.5052.jpg', 'image.5062.jpg', 'image.5071.jpg', 'image.5084.jpg', 'image.5095.jpg', 'image.5102.jpg', 'image.5110.jpg', 'image.5119.jpg', 'image.5132.jpg', 'image.5134.jpg', 'image.5150.jpg', 'image.5159.jpg', 'image.5163.jpg', 'image.1397.jpg', 'image.5181.jpg', 'image.5185.jpg', 'image.5197.jpg', 'image.5202.jpg', 'image.5216.jpg', 'image.5221.jpg', 'image.5230.jpg', 'image.5238.jpg', 'image.5248.jpg', 'image.5260.png', 'image.5265.jpg', 'image.5271.jpg', 'image.5287.jpg', 'image.1773.jpg', 'image.4859.jpg', 'image.5309.jpg', 'image.5318.jpg', 'image.5328.jpg', 'image.4570.jpg', 'image.5346.jpg', 'image.5357.jpg', 'image.5367.jpg', 'image.5371.jpg', 'image.5382.jpg', 'image.5393.jpg', 'image.5404.jpg', 'image.5408.jpg', 'image.5418.jpg', 'image.2711.jpg', 'image.319.jpg', 'image.5443.jpg', 'image.5456.jpg', 'image.5463.jpg', 'image.5469.jpg', 'image.435.jpg', 'image.5493.jpg', 'image.5504.jpg', 'image.5511.jpg', 'image.5518.jpg', 'image.5523.jpg', 'image.1071.jpg', 'image.5546.jpg', 'image.5551.jpg', 'image.2629.jpg', 'image.5565.jpg', 'image.5571.jpg', 'image.5582.jpg', 'image.5586.jpg', 'image.5594.jpg', 'image.5604.jpg', 'image.5607.jpg', 'image.5617.jpg', 'image.5627.jpg', 'image.5641.jpg', 'image.5648.jpg', 'image.5659.jpg', 'image.4955.jpg', 'image.5671.jpg', 'image.5675.jpg', 'image.5691.jpg', 'image.5700.jpg', 'image.5708.jpg', 'image.5718.jpg', 'image.5726.jpg', 'image.5729.jpg', 'image.5734.jpg', 'image.5740.png', 'image.5753.jpg', 'image.5134.jpg', 'image.5767.jpg', 'image.5775.jpg', 'image.5781.jpg', 'image.485.jpg', 'image.5432.jpg', 'image.5800.jpg', 'image.5812.jpg', 'image.5819.jpg', 'image.5820.jpg', 'image.3776.jpg', 'image.5841.jpg', 'image.5852.jpg', 'image.5854.jpg', 'image.1222.jpg', 'image.5873.jpg', 'image.91.jpg', 'image.5890.jpg', 'image.4354.jpg', 'image.5905.jpg', 'image.5916.jpg', 'image.5928.jpg', 'image.5939.jpg', 'image.5945.jpg', 'image.423.jpg', 'image.5956.jpg', 'image.5967.jpg', 'image.5977.jpg', 'image.5987.jpg', 'image.3233.jpg', 'image.5999.jpg', 'image.1899.jpg', 'image.6011.jpg', 'image.6018.jpg', 'image.1870.jpg', 'image.6035.jpg', 'image.6045.jpg', 'image.6052.jpg', 'image.6060.jpg', 'image.6067.jpg', 'image.6073.jpg', 'image.4670.jpg', 'image.2323.jpg', 'image.6097.jpg', 'image.6102.jpg', 'image.6115.jpg', 'image.4952.jpg', 'image.157.jpg', 'image.6134.jpg', 'image.6145.jpg', 'image.2053.jpg', 'image.6160.jpg', 'image.6167.jpg', 'image.6179.jpg', 'image.6185.jpg', 'image.6192.jpg', 'image.6203.jpg', 'image.6213.jpg', 'image.6221.jpg', 'image.6235.jpg', 'image.6239.jpg', 'image.6248.jpg', 'image.6255.jpg', 'image.6262.jpg', 'image.6273.jpg', 'image.6282.jpg', 'image.1388.jpg', 'image.6304.jpg', 'image.86.jpg', 'image.1153.jpg', 'image.6323.jpg', 'image.2026.jpg', 'image.6333.jpg', 'image.4569.jpg', 'image.235.jpg', 'image.6348.jpg', 'image.6361.jpg', 'image.6368.jpg', 'image.6376.jpg', 'image.6383.jpg', 'image.1796.jpg', 'image.6406.jpg', 'image.6408.jpg', 'image.6426.jpg', 'image.6435.jpg', 'image.6449.jpg', 'image.6460.jpg', 'image.6468.jpg', 'image.6478.jpg', 'image.6484.jpg', 'image.6489.jpg', 'image.6491.jpg', 'image.558.jpg', 'image.6511.jpg', 'image.6526.jpg', 'image.6530.jpg', 'image.2544.jpg', 'image.6553.jpg', 'image.6562.jpg', 'image.6566.jpg', 'image.6575.jpg', 'image.6583.jpg', 'image.5854.jpg', 'image.6602.jpg', 'image.6612.jpg', 'image.6617.jpg', 'image.6623.jpg', 'image.245.jpg', 'image.2026.jpg', 'image.6640.jpg', 'image.6642.jpg', 'image.6651.jpg', 'image.6665.jpg', 'image.6669.jpg', 'image.6679.jpg', 'image.5800.jpg', 'image.2098.jpg', 'image.6701.jpg', 'image.6709.jpg', 'image.6721.jpg', 'image.6729.jpg', 'image.6736.jpg', 'image.6745.jpg', 'image.6753.png', 'image.6764.jpg', 'image.6769.jpg', 'image.6776.jpg', 'image.6784.jpg', 'image.6792.jpg', 'image.6799.jpg', 'image.6807.jpg', 'image.6815.jpg', 'image.6821.jpg', 'image.6829.jpg', 'image.1096.jpg', 'image.6844.jpg', 'image.6845.jpg', 'image.6855.jpg', 'image.6865.jpg', 'image.6874.jpg', 'image.1291.jpg', 'image.6883.jpg', 'image.6895.jpg', 'image.6902.jpg', 'image.6445.jpg', 'image.6907.jpg', 'image.763.jpg', 'image.6928.jpg', 'image.6933.jpg', 'image.1701.jpg', 'image.1371.jpg', 'image.2297.jpg', 'image.6958.jpg', 'image.6964.jpg', 'image.6972.jpg', 'image.6980.jpg', 'image.6989.jpg', 'image.7004.jpg', 'image.7007.jpg', 'image.7010.jpg', 'image.6179.jpg', 'image.7025.jpg', 'image.7033.jpg', 'image.7035.jpg', 'image.7046.jpg', 'image.7056.jpg', 'image.7060.jpg', 'image.7067.jpg', 'image.1658.jpg', 'image.2408.jpg', 'image.7091.jpg', 'image.7099.jpg', 'image.7108.png', 'image.7120.jpg', 'image.7127.jpg', 'image.5956.jpg', 'image.7137.jpg', 'image.3149.jpg', 'image.7149.jpg', 'image.7159.jpg', 'image.1723.jpg', 'image.7174.jpg', 'image.7182.jpg', 'image.7192.jpg', 'image.7200.jpg', 'image.3337.jpg', 'image.1018.jpg', 'image.7210.jpg', 'image.7220.jpg', 'image.7232.jpg', 'image.7238.jpg', 'image.869.jpg', 'image.837.jpg', 'image.6519.jpg', 'image.7262.jpg', 'image.7267.jpg', 'image.7278.jpg', 'image.351.jpg', 'image.7289.jpg', 'image.7293.jpg', 'image.7309.jpg', 'image.7311.jpg', 'image.7322.jpg', 'image.7327.jpg', 'image.7242.jpg', 'image.5011.jpg', 'image.7346.jpg', 'image.7361.jpg', 'image.7366.jpg', 'image.1403.jpg', 'image.7307.jpg', 'image.7382.jpg', 'image.7389.jpg', 'image.139.jpg', 'image.1943.jpg', 'image.7418.jpg', 'image.7422.jpg', 'image.7427.jpg', 'image.7437.jpg', 'image.7442.jpg', 'image.1381.jpg', 'image.7457.jpg', 'image.7467.jpg', 'image.7473.jpg', 'image.7164.jpg', 'image.7486.jpg', 'image.7492.jpg', 'image.216.jpg', 'image.948.jpg', 'image.7515.jpg', 'image.7523.jpg', 'image.7531.jpg', 'image.7540.jpg', 'image.7547.jpg', 'image.7560.jpg', 'image.7565.jpg', 'image.7573.jpg', 'image.495.jpg', 'image.4640.jpg', 'image.7596.jpg', 'image.7600.jpg', 'image.7614.jpg', 'image.7622.jpg', 'image.4718.jpg', 'image.7635.jpg', 'image.7646.jpg', 'image.7649.jpg', 'image.7658.jpg', 'image.7664.jpg', 'image.7676.jpg', 'image.3157.jpg', 'image.7687.jpg', 'image.7693.jpg', 'image.7695.jpg', 'image.7703.jpg', 'image.7709.jpg', 'image.7719.jpg', 'image.7725.jpg', 'image.7737.jpg', 'image.7745.jpg', 'image.4686.jpeg', 'image.194.jpg', 'image.7763.jpg', 'image.7770.jpg', 'image.7779.jpg', 'image.7414.jpg', 'image.7794.jpg', 'image.7806.jpg', 'image.7815.png', 'image.7819.jpg', 'image.7822.jpg', 'image.7831.jpg', 'image.5024.jpg', 'image.7839.jpg', 'image.7847.jpg', 'image.2432.jpg', 'image.4773.jpg', 'image.7871.jpg', 'image.5604.jpg', 'image.7880.jpg', 'image.7891.jpg', 'image.7898.jpg', 'image.7904.jpg', 'image.7912.jpg', 'image.7919.jpg', 'image.7929.jpg', 'image.7931.jpg', 'image.7938.jpg', 'image.7946.jpg', 'image.7954.jpg', 'image.7959.jpg', 'image.7968.jpg', 'image.7975.jpg', 'image.7983.jpg', 'image.7991.jpg', 'image.7999.jpg', 'image.8005.jpg', 'image.8011.jpg', 'image.8015.jpg', 'image.8028.jpg', 'image.8037.jpg', 'image.3854.jpg', 'image.8054.jpg', 'image.8059.jpg', 'image.4891.jpg', 'image.8072.jpg', 'image.8081.jpg', 'image.8089.jpg', 'image.8094.jpg']\n"
     ]
    }
   ],
   "source": [
    "# folders = [\"metaclip\",\"metaclip2_wa\",\"dcxl_zshot\",\"metaclip_zshot\"]  \n",
    "# folders = [\"clip_base\",\"clip_base_ft\",\"clip_base_ft_aug\", \"clip_base_ft_noloss\", \"meta_clip_small\", \"metaclip_sm_ft_submissions\"]\n",
    "# folder_paths = []  \n",
    "all_preds = []\n",
    "for folder in folders:\n",
    "    # pred_path = \"/Users/jeelshah/Documents/Fall 2023/ANLP/project/bla/VWSD/Visual_Word_Sense_Disambiguation/predictions/\"+folder+\"/\"\n",
    "    pred_path = \"/Users/jeelshah/Documents/Fall 2023/ANLP/project/bla/VWSD/small_submissions/\"+folder+\"/\"\n",
    "    # folder_paths.append(pred_path+\"errors/\")\n",
    "    pred_path= glob(pred_path+\"*_FullSentence.txt\")[0]\n",
    "    print(pred_path)\n",
    "    with open(pred_path) as f:\n",
    "        predictions = f.readlines()\n",
    "\n",
    "    predictions = [x.split(\"\\t\")[0] for x in predictions]\n",
    "    all_preds.append(predictions)\n",
    "    print(predictions)"
   ]
  },
  {
   "cell_type": "markdown",
   "metadata": {},
   "source": [
    "\n",
    "#### Create collage for the 3 domains of error analysed in Baseline"
   ]
  },
  {
   "cell_type": "code",
   "execution_count": 24,
   "metadata": {},
   "outputs": [
    {
     "name": "stdout",
     "output_type": "stream",
     "text": [
      "blue-mood\n",
      "58\n",
      "wellington-shoe\n",
      "185\n",
      "smoking-steam\n",
      "240\n",
      "aurora-tale\n",
      "261\n",
      "watch-a-movie\n",
      "276\n",
      "river-stream\n",
      "331\n",
      "scorpio-stinger\n",
      "396\n",
      "8\n",
      "asm-launch\n",
      "15\n",
      "reflecting-glass\n",
      "20\n",
      "ammunition-shot\n",
      "139\n",
      "alpha-star\n",
      "295\n",
      "torch-battery\n",
      "361\n",
      "battery-shoot\n",
      "391\n",
      "living-sponge\n",
      "404\n",
      "bay-shore\n",
      "423\n",
      "tea-herb\n",
      "29\n",
      "amit-game\n",
      "66\n",
      "bay-sound\n",
      "141\n",
      "teddy-garment\n",
      "296\n",
      "alexander-leaves\n",
      "305\n",
      "beaver-hat\n",
      "363\n"
     ]
    }
   ],
   "source": [
    "test_img_path = '/Users/jeelshah/Documents/Fall 2023/ANLP/project/bla/VWSD/semeval-2023-task-1-V-WSD-train-v1/val_v1/test_images_resized/'\n",
    "\n",
    "text_path = \"/Users/jeelshah/Documents/Fall 2023/ANLP/project/bla/VWSD/Visual_Word_Sense_Disambiguation/predictions/baseline/error_examples/text/\"\n",
    "semantic_path = \"/Users/jeelshah/Documents/Fall 2023/ANLP/project/bla/VWSD/Visual_Word_Sense_Disambiguation/predictions/baseline/error_examples/semantic/\"\n",
    "famous_path = \"/Users/jeelshah/Documents/Fall 2023/ANLP/project/bla/VWSD/Visual_Word_Sense_Disambiguation/predictions/baseline/error_examples/famous/\"\n",
    "\n",
    "# Literal text preferance  \n",
    "# save_path = \"/Users/jeelshah/Documents/Fall 2023/ANLP/project/bla/VWSD/Visual_Word_Sense_Disambiguation/predictions/collated/text/\"\n",
    "save_path = \"/Users/jeelshah/Documents/Fall 2023/ANLP/project/bla/VWSD/Visual_Word_Sense_Disambiguation/predictions/collated_small/text/\"\n",
    "test_imgs = glob(text_path+\"*.jpg\") \n",
    "test_imgs = [j.split(\"/\")[-1].strip(\".jpg\") for j in test_imgs]\n",
    "# print(len(test_imgs))\n",
    "for i in range(len(test_labels)):\n",
    "    # print(test_data[i])\n",
    "    # for j in test_imgs:\n",
    "        # img_name = j.split(\"/\")[-1].strip(\".jpg\")\n",
    "        # print(img_name)\n",
    "        # print(i)\n",
    "    test_img_name = test_data[i].replace(\" \",\"-\")\n",
    "    if  test_img_name in test_imgs:\n",
    "        # print(\"creating\")\n",
    "        print(test_img_name)\n",
    "        print(i)\n",
    "        create_collage_compare(1800, 900, [test_img_path+test_labels[i]]+[test_img_path+p[i] for p in all_preds],folders,test_img_name,save_path)\n",
    "\n",
    "# semantic interpretation challenge\n",
    "# save_path = \"/Users/jeelshah/Documents/Fall 2023/ANLP/project/bla/VWSD/Visual_Word_Sense_Disambiguation/predictions/collated/semantic/\"\n",
    "save_path = \"/Users/jeelshah/Documents/Fall 2023/ANLP/project/bla/VWSD/Visual_Word_Sense_Disambiguation/predictions/collated_small/semantic/\"\n",
    "test_imgs = glob(semantic_path+\"*.jpg\") \n",
    "test_imgs = [j.split(\"/\")[-1].strip(\".jpg\") for j in test_imgs]\n",
    "print(len(test_imgs))\n",
    "for i in range(len(test_labels)):\n",
    "    # print(test_data[i])\n",
    "    # for j in test_imgs:\n",
    "        # img_name = j.split(\"/\")[-1].strip(\".jpg\")\n",
    "        # print(img_name)\n",
    "        # print(i)\n",
    "    test_img_name = test_data[i].replace(\" \",\"-\")\n",
    "    if  test_img_name in test_imgs:\n",
    "        # print(\"creating\")\n",
    "        print(test_img_name)\n",
    "        print(i)\n",
    "        create_collage_compare(1800, 900, [test_img_path+test_labels[i]]+[test_img_path+p[i] for p in all_preds],folders,test_img_name,save_path)\n",
    "\n",
    "# Prominent word bias\n",
    "# save_path = \"/Users/jeelshah/Documents/Fall 2023/ANLP/project/bla/VWSD/Visual_Word_Sense_Disambiguation/predictions/collated/famous/\"\n",
    "save_path = \"/Users/jeelshah/Documents/Fall 2023/ANLP/project/bla/VWSD/Visual_Word_Sense_Disambiguation/predictions/collated_small/famous/\"\n",
    "test_imgs = glob(famous_path+\"*.jpg\") \n",
    "test_imgs = [j.split(\"/\")[-1].strip(\".jpg\") for j in test_imgs]\n",
    "# print(len(test_imgs))\n",
    "for i in range(len(test_labels)):\n",
    "    # print(test_data[i])\n",
    "    # for j in test_imgs:\n",
    "        # img_name = j.split(\"/\")[-1].strip(\".jpg\")\n",
    "        # print(img_name)\n",
    "        # print(i)\n",
    "    test_img_name = test_data[i].replace(\" \",\"-\")\n",
    "    if  test_img_name in test_imgs:\n",
    "        # print(\"creating\")\n",
    "        print(test_img_name)\n",
    "        print(i)\n",
    "        try:\n",
    "            create_collage_compare(1800, 900, [test_img_path+test_labels[i]]+[test_img_path+p[i] for p in all_preds],folders,test_img_name,save_path)\n",
    "        except FileNotFoundError:\n",
    "            print(f\"correct: {test_img_name}\")"
   ]
  },
  {
   "cell_type": "markdown",
   "metadata": {},
   "source": []
  }
 ],
 "metadata": {
  "kernelspec": {
   "display_name": "Python 3",
   "language": "python",
   "name": "python3"
  },
  "language_info": {
   "codemirror_mode": {
    "name": "ipython",
    "version": 3
   },
   "file_extension": ".py",
   "mimetype": "text/x-python",
   "name": "python",
   "nbconvert_exporter": "python",
   "pygments_lexer": "ipython3",
   "version": "3.8.16"
  }
 },
 "nbformat": 4,
 "nbformat_minor": 2
}
