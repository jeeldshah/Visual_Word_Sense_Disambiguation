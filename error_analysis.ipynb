{
 "cells": [
  {
   "cell_type": "markdown",
   "metadata": {},
   "source": [
    "# Error Analysis\n",
    "\n",
    "This notebook, takes the predictions and gound truth files to identify the incorrect predictions and makes a combined image of the incorrect prediction (on the right), the ground truth (on the left) and the Full Phrase text (in black with red background)"
   ]
  },
  {
   "cell_type": "code",
   "execution_count": 1,
   "metadata": {},
   "outputs": [],
   "source": [
    "predictions = []\n",
    "test_data = []\n",
    "test_labels = []"
   ]
  },
  {
   "cell_type": "markdown",
   "metadata": {},
   "source": [
    "Reading the prediction and ground truth files"
   ]
  },
  {
   "cell_type": "code",
   "execution_count": 2,
   "metadata": {},
   "outputs": [],
   "source": [
    "pred_path = \"/Users/jeelshah/Documents/Fall 2023/ANLP/project/bla/VWSD/Visual_Word_Sense_Disambiguation/predictions/baseline/pred_test_FullSentence.txt\"\n",
    "data_path = \"/Users/jeelshah/Documents/Fall 2023/ANLP/project/bla/VWSD/Visual_Word_Sense_Disambiguation/predictions/baseline/test_data.txt\"\n",
    "label_path = \"/Users/jeelshah/Documents/Fall 2023/ANLP/project/bla/VWSD/Visual_Word_Sense_Disambiguation/predictions/baseline/test_label.txt\"\n",
    "with open(pred_path) as f:\n",
    "    predictions = f.readlines()\n",
    "\n",
    "with open(data_path) as f:\n",
    "    test_data = f.readlines()\n",
    "\n",
    "with open(label_path) as f:\n",
    "    test_labels = f.readlines()\n"
   ]
  },
  {
   "cell_type": "code",
   "execution_count": 3,
   "metadata": {},
   "outputs": [],
   "source": [
    "predictions = [x.split(\"\\t\")[0] for x in predictions]\n"
   ]
  },
  {
   "cell_type": "code",
   "execution_count": 4,
   "metadata": {},
   "outputs": [
    {
     "data": {
      "text/plain": [
       "'image.2166.jpg'"
      ]
     },
     "execution_count": 4,
     "metadata": {},
     "output_type": "execute_result"
    }
   ],
   "source": [
    "predictions[0]"
   ]
  },
  {
   "cell_type": "code",
   "execution_count": 5,
   "metadata": {},
   "outputs": [],
   "source": [
    "# test_data = [x.split(\"\\t\")[1] for x in test_data ]\n",
    "temp = []\n",
    "for t in test_data:\n",
    "    tt = t.split(\"\\t\")\n",
    "    try:\n",
    "        ttt = tt[1]\n",
    "        temp.append(ttt)\n",
    "    except:\n",
    "        print(tt)"
   ]
  },
  {
   "cell_type": "code",
   "execution_count": 6,
   "metadata": {},
   "outputs": [],
   "source": [
    "test_data = temp"
   ]
  },
  {
   "cell_type": "code",
   "execution_count": 7,
   "metadata": {},
   "outputs": [
    {
     "data": {
      "text/plain": [
       "'football goal'"
      ]
     },
     "execution_count": 7,
     "metadata": {},
     "output_type": "execute_result"
    }
   ],
   "source": [
    "test_data[0]"
   ]
  },
  {
   "cell_type": "code",
   "execution_count": 8,
   "metadata": {},
   "outputs": [],
   "source": [
    "test_labels = [x.strip(\"\\n\") for x in test_labels]"
   ]
  },
  {
   "cell_type": "code",
   "execution_count": 9,
   "metadata": {},
   "outputs": [
    {
     "data": {
      "text/plain": [
       "'image.2166.jpg'"
      ]
     },
     "execution_count": 9,
     "metadata": {},
     "output_type": "execute_result"
    }
   ],
   "source": [
    "test_labels[0]"
   ]
  },
  {
   "cell_type": "code",
   "execution_count": 10,
   "metadata": {},
   "outputs": [
    {
     "data": {
      "text/plain": [
       "'hair bun'"
      ]
     },
     "execution_count": 10,
     "metadata": {},
     "output_type": "execute_result"
    }
   ],
   "source": [
    "# these indexes had nan values for Full Phrase, thus they were omitted\n",
    "# test_labels.pop(40)\n",
    "# test_labels.pop(367)\n",
    "# test_data.pop(40)\n",
    "# test_data.pop(367)"
   ]
  },
  {
   "cell_type": "markdown",
   "metadata": {},
   "source": [
    "Function to take in input images and text and make a collage to have a comparative view"
   ]
  },
  {
   "cell_type": "code",
   "execution_count": 13,
   "metadata": {},
   "outputs": [],
   "source": [
    "from PIL import Image\n",
    "from PIL import ImageDraw\n",
    "from PIL import ImageFont\n",
    "listofimages=['Image2.jpg', 'Image6.jpg']\n",
    "\n",
    "def create_collage(width, height, listofimages, img_name):\n",
    "    img_name = img_name.replace(\" \",\"-\")\n",
    "    cols = 2\n",
    "    rows = 1\n",
    "    thumbnail_width = width//cols\n",
    "    thumbnail_height = height//rows\n",
    "    size = thumbnail_width, thumbnail_height\n",
    "    new_im = Image.new('RGB', (width, height))\n",
    "    ims = []\n",
    "    for p in listofimages:\n",
    "        im = Image.open(p)\n",
    "        im.thumbnail(size)\n",
    "        ims.append(im)\n",
    "    i = 0\n",
    "    x = 0\n",
    "    y = 0\n",
    "    for col in range(cols):\n",
    "        for row in range(rows):\n",
    "            # print(i, x, y)\n",
    "            new_im.paste(ims[i], (x, y))\n",
    "            i += 1\n",
    "            y += thumbnail_height\n",
    "        x += thumbnail_width\n",
    "        y = 0\n",
    "    draw = ImageDraw.Draw(new_im)\n",
    "    # draw.text(, img_name, fill=(255, 0, 0))\n",
    "    position = (200, 180)\n",
    "    left, top, right, bottom = draw.textbbox(position, img_name)\n",
    "    draw.rectangle((left-5, top-5, right+5, bottom+5), fill=\"red\")\n",
    "    draw.text(position, img_name, fill=\"black\",stroke_width=50)\n",
    "    new_im.save('/Users/jeelshah/Documents/Fall 2023/ANLP/project/bla/VWSD/Visual_Word_Sense_Disambiguation/predictions/baseline/errors/'+img_name+\".jpg\")\n",
    "\n",
    "# create_collage(450, 200, listofimages)"
   ]
  },
  {
   "cell_type": "markdown",
   "metadata": {},
   "source": [
    "Reading predictions and making collages for the incorrect predictions"
   ]
  },
  {
   "cell_type": "code",
   "execution_count": 15,
   "metadata": {},
   "outputs": [],
   "source": [
    "test_img_path = '/Users/jeelshah/Documents/Fall 2023/ANLP/project/bla/VWSD/semeval-2023-task-1-V-WSD-train-v1/val_v1/test_images_resized/'\n",
    "for i,n in enumerate(predictions):\n",
    "    if predictions[i] != test_labels[i]:\n",
    "        # print(predictions[i])\n",
    "        # print(test_labels[i])\n",
    "        # print(test_data[i])\n",
    "        create_collage(450, 200, [test_img_path+predictions[i],test_img_path+test_labels[i]],test_data[i])"
   ]
  },
  {
   "cell_type": "code",
   "execution_count": null,
   "metadata": {},
   "outputs": [],
   "source": []
  }
 ],
 "metadata": {
  "kernelspec": {
   "display_name": "Python 3",
   "language": "python",
   "name": "python3"
  },
  "language_info": {
   "codemirror_mode": {
    "name": "ipython",
    "version": 3
   },
   "file_extension": ".py",
   "mimetype": "text/x-python",
   "name": "python",
   "nbconvert_exporter": "python",
   "pygments_lexer": "ipython3",
   "version": "3.8.16"
  }
 },
 "nbformat": 4,
 "nbformat_minor": 2
}
